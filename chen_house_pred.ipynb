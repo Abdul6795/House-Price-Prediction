{
 "cells": [
  {
   "cell_type": "code",
   "execution_count": 1,
   "id": "29cb50e8",
   "metadata": {},
   "outputs": [],
   "source": [
    "import pandas as pd\n",
    "import numpy as np\n",
    "import seaborn as sns\n",
    "import matplotlib.pyplot as plt"
   ]
  },
  {
   "cell_type": "code",
   "execution_count": 2,
   "id": "556dc0d4",
   "metadata": {},
   "outputs": [
    {
     "data": {
      "text/html": [
       "<div>\n",
       "<style scoped>\n",
       "    .dataframe tbody tr th:only-of-type {\n",
       "        vertical-align: middle;\n",
       "    }\n",
       "\n",
       "    .dataframe tbody tr th {\n",
       "        vertical-align: top;\n",
       "    }\n",
       "\n",
       "    .dataframe thead th {\n",
       "        text-align: right;\n",
       "    }\n",
       "</style>\n",
       "<table border=\"1\" class=\"dataframe\">\n",
       "  <thead>\n",
       "    <tr style=\"text-align: right;\">\n",
       "      <th></th>\n",
       "      <th>0</th>\n",
       "      <th>1</th>\n",
       "      <th>2</th>\n",
       "      <th>3</th>\n",
       "      <th>4</th>\n",
       "    </tr>\n",
       "  </thead>\n",
       "  <tbody>\n",
       "    <tr>\n",
       "      <th>PRT_ID</th>\n",
       "      <td>P03210</td>\n",
       "      <td>P09411</td>\n",
       "      <td>P01812</td>\n",
       "      <td>P05346</td>\n",
       "      <td>P06210</td>\n",
       "    </tr>\n",
       "    <tr>\n",
       "      <th>AREA</th>\n",
       "      <td>Karapakkam</td>\n",
       "      <td>Anna Nagar</td>\n",
       "      <td>Adyar</td>\n",
       "      <td>Velachery</td>\n",
       "      <td>Karapakkam</td>\n",
       "    </tr>\n",
       "    <tr>\n",
       "      <th>INT_SQFT</th>\n",
       "      <td>1004</td>\n",
       "      <td>1986</td>\n",
       "      <td>909</td>\n",
       "      <td>1855</td>\n",
       "      <td>1226</td>\n",
       "    </tr>\n",
       "    <tr>\n",
       "      <th>DIST_MAINROAD</th>\n",
       "      <td>131</td>\n",
       "      <td>26</td>\n",
       "      <td>70</td>\n",
       "      <td>14</td>\n",
       "      <td>84</td>\n",
       "    </tr>\n",
       "    <tr>\n",
       "      <th>N_BEDROOM</th>\n",
       "      <td>1.0</td>\n",
       "      <td>2.0</td>\n",
       "      <td>1.0</td>\n",
       "      <td>3.0</td>\n",
       "      <td>1.0</td>\n",
       "    </tr>\n",
       "    <tr>\n",
       "      <th>N_BATHROOM</th>\n",
       "      <td>1.0</td>\n",
       "      <td>1.0</td>\n",
       "      <td>1.0</td>\n",
       "      <td>2.0</td>\n",
       "      <td>1.0</td>\n",
       "    </tr>\n",
       "    <tr>\n",
       "      <th>N_ROOM</th>\n",
       "      <td>3</td>\n",
       "      <td>5</td>\n",
       "      <td>3</td>\n",
       "      <td>5</td>\n",
       "      <td>3</td>\n",
       "    </tr>\n",
       "    <tr>\n",
       "      <th>SALE_COND</th>\n",
       "      <td>AbNormal</td>\n",
       "      <td>AbNormal</td>\n",
       "      <td>AbNormal</td>\n",
       "      <td>Family</td>\n",
       "      <td>AbNormal</td>\n",
       "    </tr>\n",
       "    <tr>\n",
       "      <th>PARK_FACIL</th>\n",
       "      <td>Yes</td>\n",
       "      <td>No</td>\n",
       "      <td>Yes</td>\n",
       "      <td>No</td>\n",
       "      <td>Yes</td>\n",
       "    </tr>\n",
       "    <tr>\n",
       "      <th>BUILDTYPE</th>\n",
       "      <td>Commercial</td>\n",
       "      <td>Commercial</td>\n",
       "      <td>Commercial</td>\n",
       "      <td>Others</td>\n",
       "      <td>Others</td>\n",
       "    </tr>\n",
       "    <tr>\n",
       "      <th>UTILITY_AVAIL</th>\n",
       "      <td>AllPub</td>\n",
       "      <td>AllPub</td>\n",
       "      <td>ELO</td>\n",
       "      <td>NoSewr</td>\n",
       "      <td>AllPub</td>\n",
       "    </tr>\n",
       "    <tr>\n",
       "      <th>STREET</th>\n",
       "      <td>Paved</td>\n",
       "      <td>Gravel</td>\n",
       "      <td>Gravel</td>\n",
       "      <td>Paved</td>\n",
       "      <td>Gravel</td>\n",
       "    </tr>\n",
       "    <tr>\n",
       "      <th>MZZONE</th>\n",
       "      <td>A</td>\n",
       "      <td>RH</td>\n",
       "      <td>RL</td>\n",
       "      <td>I</td>\n",
       "      <td>C</td>\n",
       "    </tr>\n",
       "    <tr>\n",
       "      <th>QS_ROOMS</th>\n",
       "      <td>4.0</td>\n",
       "      <td>4.9</td>\n",
       "      <td>4.1</td>\n",
       "      <td>4.7</td>\n",
       "      <td>3.0</td>\n",
       "    </tr>\n",
       "    <tr>\n",
       "      <th>QS_BATHROOM</th>\n",
       "      <td>3.9</td>\n",
       "      <td>4.2</td>\n",
       "      <td>3.8</td>\n",
       "      <td>3.9</td>\n",
       "      <td>2.5</td>\n",
       "    </tr>\n",
       "    <tr>\n",
       "      <th>QS_BEDROOM</th>\n",
       "      <td>4.9</td>\n",
       "      <td>2.5</td>\n",
       "      <td>2.2</td>\n",
       "      <td>3.6</td>\n",
       "      <td>4.1</td>\n",
       "    </tr>\n",
       "    <tr>\n",
       "      <th>QS_OVERALL</th>\n",
       "      <td>4.33</td>\n",
       "      <td>3.765</td>\n",
       "      <td>3.09</td>\n",
       "      <td>4.01</td>\n",
       "      <td>3.29</td>\n",
       "    </tr>\n",
       "    <tr>\n",
       "      <th>COMMIS</th>\n",
       "      <td>144400</td>\n",
       "      <td>304049</td>\n",
       "      <td>92114</td>\n",
       "      <td>77042</td>\n",
       "      <td>74063</td>\n",
       "    </tr>\n",
       "    <tr>\n",
       "      <th>SALES_PRICE</th>\n",
       "      <td>7600000</td>\n",
       "      <td>21717770</td>\n",
       "      <td>13159200</td>\n",
       "      <td>9630290</td>\n",
       "      <td>7406250</td>\n",
       "    </tr>\n",
       "  </tbody>\n",
       "</table>\n",
       "</div>"
      ],
      "text/plain": [
       "                        0           1           2          3           4\n",
       "PRT_ID             P03210      P09411      P01812     P05346      P06210\n",
       "AREA           Karapakkam  Anna Nagar       Adyar  Velachery  Karapakkam\n",
       "INT_SQFT             1004        1986         909       1855        1226\n",
       "DIST_MAINROAD         131          26          70         14          84\n",
       "N_BEDROOM             1.0         2.0         1.0        3.0         1.0\n",
       "N_BATHROOM            1.0         1.0         1.0        2.0         1.0\n",
       "N_ROOM                  3           5           3          5           3\n",
       "SALE_COND        AbNormal    AbNormal    AbNormal     Family    AbNormal\n",
       "PARK_FACIL            Yes          No         Yes         No         Yes\n",
       "BUILDTYPE      Commercial  Commercial  Commercial     Others      Others\n",
       "UTILITY_AVAIL      AllPub      AllPub         ELO    NoSewr       AllPub\n",
       "STREET              Paved      Gravel      Gravel      Paved      Gravel\n",
       "MZZONE                  A          RH          RL          I           C\n",
       "QS_ROOMS              4.0         4.9         4.1        4.7         3.0\n",
       "QS_BATHROOM           3.9         4.2         3.8        3.9         2.5\n",
       "QS_BEDROOM            4.9         2.5         2.2        3.6         4.1\n",
       "QS_OVERALL           4.33       3.765        3.09       4.01        3.29\n",
       "COMMIS             144400      304049       92114      77042       74063\n",
       "SALES_PRICE       7600000    21717770    13159200    9630290     7406250"
      ]
     },
     "execution_count": 2,
     "metadata": {},
     "output_type": "execute_result"
    }
   ],
   "source": [
    "df=pd.read_csv('chennai_house_price_prediction.csv')\n",
    "df.head().T"
   ]
  },
  {
   "cell_type": "code",
   "execution_count": 3,
   "id": "86d2a1cc",
   "metadata": {},
   "outputs": [
    {
     "data": {
      "text/plain": [
       "(7109, 19)"
      ]
     },
     "execution_count": 3,
     "metadata": {},
     "output_type": "execute_result"
    }
   ],
   "source": [
    "df.shape"
   ]
  },
  {
   "cell_type": "code",
   "execution_count": 4,
   "id": "c9b2b7ba",
   "metadata": {},
   "outputs": [
    {
     "name": "stdout",
     "output_type": "stream",
     "text": [
      "<class 'pandas.core.frame.DataFrame'>\n",
      "RangeIndex: 7109 entries, 0 to 7108\n",
      "Data columns (total 19 columns):\n",
      " #   Column         Non-Null Count  Dtype  \n",
      "---  ------         --------------  -----  \n",
      " 0   PRT_ID         7109 non-null   object \n",
      " 1   AREA           7109 non-null   object \n",
      " 2   INT_SQFT       7109 non-null   int64  \n",
      " 3   DIST_MAINROAD  7109 non-null   int64  \n",
      " 4   N_BEDROOM      7108 non-null   float64\n",
      " 5   N_BATHROOM     7104 non-null   float64\n",
      " 6   N_ROOM         7109 non-null   int64  \n",
      " 7   SALE_COND      7109 non-null   object \n",
      " 8   PARK_FACIL     7109 non-null   object \n",
      " 9   BUILDTYPE      7109 non-null   object \n",
      " 10  UTILITY_AVAIL  7109 non-null   object \n",
      " 11  STREET         7109 non-null   object \n",
      " 12  MZZONE         7109 non-null   object \n",
      " 13  QS_ROOMS       7109 non-null   float64\n",
      " 14  QS_BATHROOM    7109 non-null   float64\n",
      " 15  QS_BEDROOM     7109 non-null   float64\n",
      " 16  QS_OVERALL     7061 non-null   float64\n",
      " 17  COMMIS         7109 non-null   int64  \n",
      " 18  SALES_PRICE    7109 non-null   int64  \n",
      "dtypes: float64(6), int64(5), object(8)\n",
      "memory usage: 1.0+ MB\n"
     ]
    }
   ],
   "source": [
    "df.info()"
   ]
  },
  {
   "cell_type": "code",
   "execution_count": 5,
   "id": "2fa35cc7",
   "metadata": {},
   "outputs": [
    {
     "data": {
      "text/plain": [
       "PRT_ID            0\n",
       "AREA              0\n",
       "INT_SQFT          0\n",
       "DIST_MAINROAD     0\n",
       "N_BEDROOM         1\n",
       "N_BATHROOM        5\n",
       "N_ROOM            0\n",
       "SALE_COND         0\n",
       "PARK_FACIL        0\n",
       "BUILDTYPE         0\n",
       "UTILITY_AVAIL     0\n",
       "STREET            0\n",
       "MZZONE            0\n",
       "QS_ROOMS          0\n",
       "QS_BATHROOM       0\n",
       "QS_BEDROOM        0\n",
       "QS_OVERALL       48\n",
       "COMMIS            0\n",
       "SALES_PRICE       0\n",
       "dtype: int64"
      ]
     },
     "execution_count": 5,
     "metadata": {},
     "output_type": "execute_result"
    }
   ],
   "source": [
    "df.isnull().sum()"
   ]
  },
  {
   "cell_type": "code",
   "execution_count": 6,
   "id": "51c13173",
   "metadata": {},
   "outputs": [
    {
     "data": {
      "text/plain": [
       "array([ 1.,  2.,  3.,  4., nan])"
      ]
     },
     "execution_count": 6,
     "metadata": {},
     "output_type": "execute_result"
    }
   ],
   "source": [
    "df['N_BEDROOM'].unique()"
   ]
  },
  {
   "cell_type": "code",
   "execution_count": 7,
   "id": "ea9b701a",
   "metadata": {},
   "outputs": [
    {
     "data": {
      "text/plain": [
       "array([ 1.,  2., nan])"
      ]
     },
     "execution_count": 7,
     "metadata": {},
     "output_type": "execute_result"
    }
   ],
   "source": [
    "df['N_BATHROOM'].unique()"
   ]
  },
  {
   "cell_type": "code",
   "execution_count": 8,
   "id": "596c9d4d",
   "metadata": {},
   "outputs": [
    {
     "data": {
      "text/plain": [
       "array([4.33 , 3.765, 3.09 , 4.01 , 3.29 , 3.32 , 2.67 , 3.26 , 3.55 ,\n",
       "       3.16 , 3.83 , 2.89 , 2.26 , 3.19 , 3.66 ,   nan, 3.57 , 4.3  ,\n",
       "       3.35 , 4.76 , 3.39 , 3.43 , 3.73 , 3.59 , 3.74 , 2.29 , 3.17 ,\n",
       "       4.18 , 2.755, 2.11 , 2.605, 4.58 , 4.2  , 3.27 , 4.19 , 2.98 ,\n",
       "       3.12 , 3.08 , 3.85 , 3.42 , 3.2  , 4.   , 3.34 , 2.825, 3.46 ,\n",
       "       4.07 , 3.68 , 2.95 , 3.505, 2.97 , 3.63 , 3.76 , 3.77 , 2.78 ,\n",
       "       3.985, 3.04 , 2.88 , 4.21 , 2.42 , 3.8  , 2.54 , 3.84 , 2.395,\n",
       "       3.14 , 2.49 , 3.175, 2.84 , 4.17 , 3.13 , 3.98 , 3.36 , 3.735,\n",
       "       2.62 , 4.61 , 2.6  , 4.09 , 3.18 , 3.425, 3.71 , 3.21 , 3.61 ,\n",
       "       2.9  , 3.94 , 4.145, 4.26 , 4.16 , 3.5  , 3.22 , 3.99 , 4.12 ,\n",
       "       2.475, 2.28 , 2.725, 4.03 , 3.07 , 2.81 , 3.45 , 3.9  , 3.87 ,\n",
       "       3.1  , 2.93 , 3.05 , 3.54 , 2.63 , 3.11 , 3.89 , 3.33 , 3.96 ,\n",
       "       3.56 , 4.39 , 3.58 , 3.47 , 3.88 , 4.04 , 3.6  , 4.53 , 3.72 ,\n",
       "       2.96 , 3.4  , 3.51 , 4.215, 3.055, 3.06 , 3.53 , 3.435, 3.41 ,\n",
       "       3.86 , 3.62 , 4.5  , 4.42 , 4.14 , 3.01 , 4.24 , 2.53 , 3.535,\n",
       "       2.665, 3.49 , 3.52 , 3.25 , 4.465, 4.66 , 3.7  , 2.495, 4.13 ,\n",
       "       4.37 , 2.66 , 2.3  , 2.85 , 3.31 , 3.03 , 3.97 , 2.75 , 3.355,\n",
       "       3.75 , 2.775, 4.68 , 3.15 , 3.91 , 2.94 , 3.24 , 4.475, 3.67 ,\n",
       "       3.38 , 4.38 , 4.59 , 3.295, 3.82 , 4.64 , 4.1  , 2.55 , 3.37 ,\n",
       "       3.48 , 2.73 , 3.945, 3.285, 3.93 , 4.27 , 4.28 , 2.34 , 3.815,\n",
       "       2.79 , 4.035, 3.44 , 4.325, 3.95 , 2.785, 3.02 , 3.64 , 4.22 ,\n",
       "       2.82 , 3.755, 3.78 , 3.81 , 3.92 , 4.375, 3.3  , 3.035, 3.575,\n",
       "       2.83 , 2.92 , 4.08 , 4.43 , 2.58 , 3.28 , 3.705, 3.935, 3.23 ,\n",
       "       4.06 , 4.46 , 4.6  , 2.8  , 2.61 , 2.69 , 2.35 , 2.87 , 3.79 ,\n",
       "       3.485, 2.91 , 2.99 , 3.825, 4.445, 2.985, 2.37 , 3.745, 2.995,\n",
       "       3.65 , 2.33 , 2.895, 3.69 , 2.52 , 2.51 , 4.02 , 4.54 , 3.255,\n",
       "       2.595, 3.615, 4.34 , 4.05 , 4.35 , 4.41 , 2.71 , 3.475, 4.015,\n",
       "       4.31 , 2.955, 2.72 , 4.48 , 3.605, 3.415, 4.32 , 2.965, 3.655,\n",
       "       4.7  , 2.57 , 4.15 , 3.885, 2.7  , 2.36 , 2.68 , 2.74 , 3.315,\n",
       "       4.005, 2.65 , 4.71 , 4.25 , 3.   , 3.585, 3.075, 3.105, 2.255,\n",
       "       3.185, 4.44 , 2.47 , 4.47 , 3.135, 4.9  , 4.52 , 4.57 , 3.595,\n",
       "       3.495, 4.56 , 2.4  , 4.11 , 3.165, 3.395, 4.29 , 3.275, 2.39 ,\n",
       "       3.875, 3.555, 3.855, 2.44 , 2.64 , 3.095, 3.915, 2.5  , 2.345,\n",
       "       2.615, 2.76 , 4.125, 3.025, 3.205, 3.465, 3.895, 2.48 , 4.49 ,\n",
       "       2.77 , 2.24 , 2.86 , 3.235, 2.46 , 2.59 , 3.445, 2.45 , 2.25 ,\n",
       "       4.435, 3.715, 2.735, 4.4  , 4.63 , 3.835, 3.305, 2.375, 4.69 ,\n",
       "       4.155, 3.455, 4.23 , 2.655, 3.685, 3.625, 4.025, 2.885, 4.36 ,\n",
       "       2.945, 2.855, 4.115, 2.09 , 3.795, 3.045, 3.645, 2.975, 3.775,\n",
       "       2.21 , 4.85 , 2.795, 4.135, 4.78 , 2.635, 4.095, 2.625, 3.725,\n",
       "       2.835, 4.79 , 3.115, 4.87 , 2.245, 4.865, 4.495, 3.375, 2.43 ,\n",
       "       4.395, 3.545, 4.585, 4.705, 4.83 , 4.195, 3.365, 2.06 , 3.995,\n",
       "       3.965, 3.635, 3.695, 4.405, 3.785, 3.515, 3.385, 4.515, 4.95 ,\n",
       "       4.255, 4.72 , 4.65 , 4.045, 2.32 , 4.73 , 4.075, 3.145, 2.715,\n",
       "       3.565, 4.655, 2.525, 2.565, 2.31 , 4.165, 2.925, 2.41 , 4.085,\n",
       "       3.525, 3.015, 2.22 , 4.275, 3.905, 2.515, 3.955, 3.845, 4.345,\n",
       "       2.585, 4.75 , 3.335, 2.18 , 2.23 , 4.67 , 2.455, 4.455, 2.805,\n",
       "       3.345, 4.62 , 4.105, 3.405, 4.615, 4.185, 2.815, 4.45 , 4.97 ,\n",
       "       4.415, 4.055, 2.645, 2.685, 4.315, 2.845, 4.82 , 4.225, 3.155,\n",
       "       4.205, 4.51 , 2.865, 2.765, 4.605, 3.065, 2.545, 3.265, 4.425,\n",
       "       2.56 , 2.745, 4.065, 4.295, 2.   , 4.55 , 3.975, 3.675, 2.915,\n",
       "       2.2  , 3.005, 2.385, 2.38 , 3.665, 2.535, 3.325, 3.925, 3.125,\n",
       "       4.335, 4.385, 2.27 , 4.93 , 3.805, 4.77 , 2.195, 4.175, 2.675,\n",
       "       4.695, 2.445, 4.265, 4.765, 2.335, 2.465, 4.81 , 2.905, 3.195,\n",
       "       3.245, 4.675, 4.94 ])"
      ]
     },
     "execution_count": 8,
     "metadata": {},
     "output_type": "execute_result"
    }
   ],
   "source": [
    "df['QS_OVERALL'].unique()"
   ]
  },
  {
   "cell_type": "code",
   "execution_count": 9,
   "id": "bef84518",
   "metadata": {},
   "outputs": [],
   "source": [
    "df['N_BEDROOM']=df['N_BEDROOM'].fillna(df['N_BEDROOM'].median())\n",
    "df['N_BATHROOM']=df['N_BATHROOM'].fillna(df['N_BATHROOM'].median())\n",
    "df['QS_OVERALL']=df['QS_OVERALL'].fillna(df['QS_OVERALL'].median())"
   ]
  },
  {
   "cell_type": "code",
   "execution_count": 10,
   "id": "cebbb0cc",
   "metadata": {},
   "outputs": [
    {
     "data": {
      "text/plain": [
       "PRT_ID           0\n",
       "AREA             0\n",
       "INT_SQFT         0\n",
       "DIST_MAINROAD    0\n",
       "N_BEDROOM        0\n",
       "N_BATHROOM       0\n",
       "N_ROOM           0\n",
       "SALE_COND        0\n",
       "PARK_FACIL       0\n",
       "BUILDTYPE        0\n",
       "UTILITY_AVAIL    0\n",
       "STREET           0\n",
       "MZZONE           0\n",
       "QS_ROOMS         0\n",
       "QS_BATHROOM      0\n",
       "QS_BEDROOM       0\n",
       "QS_OVERALL       0\n",
       "COMMIS           0\n",
       "SALES_PRICE      0\n",
       "dtype: int64"
      ]
     },
     "execution_count": 10,
     "metadata": {},
     "output_type": "execute_result"
    }
   ],
   "source": [
    "df.isnull().sum()"
   ]
  },
  {
   "cell_type": "code",
   "execution_count": 11,
   "id": "e1c79356",
   "metadata": {},
   "outputs": [
    {
     "data": {
      "text/plain": [
       "Index(['PRT_ID', 'AREA', 'INT_SQFT', 'DIST_MAINROAD', 'N_BEDROOM',\n",
       "       'N_BATHROOM', 'N_ROOM', 'SALE_COND', 'PARK_FACIL', 'BUILDTYPE',\n",
       "       'UTILITY_AVAIL', 'STREET', 'MZZONE', 'QS_ROOMS', 'QS_BATHROOM',\n",
       "       'QS_BEDROOM', 'QS_OVERALL', 'COMMIS', 'SALES_PRICE'],\n",
       "      dtype='object')"
      ]
     },
     "execution_count": 11,
     "metadata": {},
     "output_type": "execute_result"
    }
   ],
   "source": [
    "df.columns"
   ]
  },
  {
   "cell_type": "code",
   "execution_count": 12,
   "id": "6f040038",
   "metadata": {},
   "outputs": [
    {
     "data": {
      "text/plain": [
       "7109"
      ]
     },
     "execution_count": 12,
     "metadata": {},
     "output_type": "execute_result"
    }
   ],
   "source": [
    "df['PRT_ID'].nunique()  # we will perform label encoding"
   ]
  },
  {
   "cell_type": "code",
   "execution_count": 13,
   "id": "7803ee9b",
   "metadata": {},
   "outputs": [
    {
     "data": {
      "text/plain": [
       "array(['Karapakkam', 'Anna Nagar', 'Adyar', 'Velachery', 'Chrompet',\n",
       "       'KK Nagar', 'TNagar', 'T Nagar', 'Chrompt', 'Chrmpet', 'Karapakam',\n",
       "       'Ana Nagar', 'Chormpet', 'Adyr', 'Velchery', 'Ann Nagar',\n",
       "       'KKNagar'], dtype=object)"
      ]
     },
     "execution_count": 13,
     "metadata": {},
     "output_type": "execute_result"
    }
   ],
   "source": [
    "df['AREA'].unique()   # we will perform label encoding"
   ]
  },
  {
   "cell_type": "code",
   "execution_count": 14,
   "id": "8d6abc19",
   "metadata": {},
   "outputs": [
    {
     "data": {
      "text/plain": [
       "array(['AbNormal', 'Family', 'Partial', 'AdjLand', 'Normal Sale',\n",
       "       'Ab Normal', 'Partiall', 'Adj Land', 'PartiaLl'], dtype=object)"
      ]
     },
     "execution_count": 14,
     "metadata": {},
     "output_type": "execute_result"
    }
   ],
   "source": [
    "df['SALE_COND'].unique() # we will perform label encoding"
   ]
  },
  {
   "cell_type": "code",
   "execution_count": 15,
   "id": "a793d95d",
   "metadata": {},
   "outputs": [
    {
     "data": {
      "text/plain": [
       "array(['Yes', 'No', 'Noo'], dtype=object)"
      ]
     },
     "execution_count": 15,
     "metadata": {},
     "output_type": "execute_result"
    }
   ],
   "source": [
    "df['PARK_FACIL'].unique()  # get dummies encoding after removing Noo"
   ]
  },
  {
   "cell_type": "code",
   "execution_count": 16,
   "id": "52f6ac89",
   "metadata": {},
   "outputs": [
    {
     "data": {
      "text/plain": [
       "array(['Commercial', 'Others', 'Other', 'House', 'Comercial'],\n",
       "      dtype=object)"
      ]
     },
     "execution_count": 16,
     "metadata": {},
     "output_type": "execute_result"
    }
   ],
   "source": [
    "df['BUILDTYPE'].unique()  # we will perform label encoding"
   ]
  },
  {
   "cell_type": "code",
   "execution_count": 17,
   "id": "e6e9a691",
   "metadata": {},
   "outputs": [
    {
     "data": {
      "text/plain": [
       "array(['AllPub', 'ELO', 'NoSewr ', 'NoSeWa', 'All Pub'], dtype=object)"
      ]
     },
     "execution_count": 17,
     "metadata": {},
     "output_type": "execute_result"
    }
   ],
   "source": [
    "df['UTILITY_AVAIL'].unique() # we will perform label encoding after removing AllPub"
   ]
  },
  {
   "cell_type": "code",
   "execution_count": 18,
   "id": "a73bbfe3",
   "metadata": {},
   "outputs": [
    {
     "data": {
      "text/plain": [
       "array(['Paved', 'Gravel', 'No Access', 'Pavd', 'NoAccess'], dtype=object)"
      ]
     },
     "execution_count": 18,
     "metadata": {},
     "output_type": "execute_result"
    }
   ],
   "source": [
    "df['STREET'].unique()  # we will perform  get dumiies after removing NoAccess & Pavd"
   ]
  },
  {
   "cell_type": "code",
   "execution_count": 19,
   "id": "1cebcb35",
   "metadata": {},
   "outputs": [
    {
     "data": {
      "text/plain": [
       "array(['A', 'RH', 'RL', 'I', 'C', 'RM'], dtype=object)"
      ]
     },
     "execution_count": 19,
     "metadata": {},
     "output_type": "execute_result"
    }
   ],
   "source": [
    "df['MZZONE'].unique() # label encoding"
   ]
  },
  {
   "cell_type": "code",
   "execution_count": 20,
   "id": "6b02bcef",
   "metadata": {},
   "outputs": [
    {
     "data": {
      "text/plain": [
       "array(['Karapakkam', 'Anna Nagar', 'Adyar', 'Velachery', 'Chrompet',\n",
       "       'KK Nagar', 'TNagar', 'T Nagar', 'Chrompt', 'Chrmpet', 'Karapakam',\n",
       "       'Ana Nagar', 'Chormpet', 'Adyr', 'Velchery', 'Ann Nagar',\n",
       "       'KKNagar'], dtype=object)"
      ]
     },
     "execution_count": 20,
     "metadata": {},
     "output_type": "execute_result"
    }
   ],
   "source": [
    "df['AREA'].unique()"
   ]
  },
  {
   "cell_type": "code",
   "execution_count": 21,
   "id": "d5356afb",
   "metadata": {},
   "outputs": [
    {
     "data": {
      "text/plain": [
       "17"
      ]
     },
     "execution_count": 21,
     "metadata": {},
     "output_type": "execute_result"
    }
   ],
   "source": [
    "df['AREA'].nunique()"
   ]
  },
  {
   "cell_type": "code",
   "execution_count": 22,
   "id": "cda18b41",
   "metadata": {},
   "outputs": [],
   "source": [
    "df['AREA'].replace({'Karapakam':'Karapakkam','Ana Nagar':'Anna Nagar','Adyr':'Adyar',\n",
    "                   'Velchery':'Velachery','Chormpet':'Chrompet','Chrmpet':'Chrompet',\n",
    "                   'Chrompt':'Chrompet','KKNagar':'KK Nagar','TNagar':'T Nagar'},inplace=True)"
   ]
  },
  {
   "cell_type": "code",
   "execution_count": 23,
   "id": "696afeb1",
   "metadata": {},
   "outputs": [
    {
     "data": {
      "text/plain": [
       "8"
      ]
     },
     "execution_count": 23,
     "metadata": {},
     "output_type": "execute_result"
    }
   ],
   "source": [
    "df['AREA'].nunique()  # label Encoding"
   ]
  },
  {
   "cell_type": "code",
   "execution_count": 24,
   "id": "e13725f0",
   "metadata": {},
   "outputs": [
    {
     "data": {
      "text/plain": [
       "array(['AbNormal', 'Family', 'Partial', 'AdjLand', 'Normal Sale',\n",
       "       'Ab Normal', 'Partiall', 'Adj Land', 'PartiaLl'], dtype=object)"
      ]
     },
     "execution_count": 24,
     "metadata": {},
     "output_type": "execute_result"
    }
   ],
   "source": [
    "df['SALE_COND'].unique() # we will perform label encoding"
   ]
  },
  {
   "cell_type": "code",
   "execution_count": 25,
   "id": "87bdeca7",
   "metadata": {},
   "outputs": [],
   "source": [
    "df['SALE_COND'].replace({'Ab Normal':'AbNormal','Partiall':'Partial','Adj Land':'AdjLand',\n",
    "                        'PartiaLl':'Partial'},inplace=True)"
   ]
  },
  {
   "cell_type": "code",
   "execution_count": 26,
   "id": "f8445849",
   "metadata": {},
   "outputs": [
    {
     "data": {
      "text/plain": [
       "array(['Yes', 'No', 'Noo'], dtype=object)"
      ]
     },
     "execution_count": 26,
     "metadata": {},
     "output_type": "execute_result"
    }
   ],
   "source": [
    "df['PARK_FACIL'].unique()  # get dummies"
   ]
  },
  {
   "cell_type": "code",
   "execution_count": 27,
   "id": "37cd65be",
   "metadata": {},
   "outputs": [],
   "source": [
    "df['PARK_FACIL'].replace({'Noo':'No'},inplace=True)"
   ]
  },
  {
   "cell_type": "code",
   "execution_count": 28,
   "id": "6463c01c",
   "metadata": {},
   "outputs": [
    {
     "data": {
      "text/plain": [
       "array(['Commercial', 'Others', 'Other', 'House', 'Comercial'],\n",
       "      dtype=object)"
      ]
     },
     "execution_count": 28,
     "metadata": {},
     "output_type": "execute_result"
    }
   ],
   "source": [
    "df['BUILDTYPE'].unique()  # get dumiies"
   ]
  },
  {
   "cell_type": "code",
   "execution_count": 29,
   "id": "8f481b5d",
   "metadata": {},
   "outputs": [],
   "source": [
    "df['BUILDTYPE'].replace({'Other':'Others','Comercial':'Commercial'},inplace=True)"
   ]
  },
  {
   "cell_type": "code",
   "execution_count": 30,
   "id": "766d8b24",
   "metadata": {},
   "outputs": [
    {
     "data": {
      "text/plain": [
       "array(['AllPub', 'ELO', 'NoSewr ', 'NoSeWa', 'All Pub'], dtype=object)"
      ]
     },
     "execution_count": 30,
     "metadata": {},
     "output_type": "execute_result"
    }
   ],
   "source": [
    "df['UTILITY_AVAIL'].unique() # label Encoding"
   ]
  },
  {
   "cell_type": "code",
   "execution_count": 31,
   "id": "a732189d",
   "metadata": {},
   "outputs": [],
   "source": [
    "df['UTILITY_AVAIL'].replace({'All Pub':'AllPub'},inplace=True)"
   ]
  },
  {
   "cell_type": "code",
   "execution_count": 32,
   "id": "51882d96",
   "metadata": {},
   "outputs": [
    {
     "data": {
      "text/plain": [
       "array(['Paved', 'Gravel', 'No Access', 'Pavd', 'NoAccess'], dtype=object)"
      ]
     },
     "execution_count": 32,
     "metadata": {},
     "output_type": "execute_result"
    }
   ],
   "source": [
    "df['STREET'].unique()  # get dummies"
   ]
  },
  {
   "cell_type": "code",
   "execution_count": 33,
   "id": "2dc6e344",
   "metadata": {},
   "outputs": [],
   "source": [
    "df['STREET'].replace({'NoAccess':'No Access','Pavd':'Paved'},inplace=True)"
   ]
  },
  {
   "cell_type": "code",
   "execution_count": 34,
   "id": "7fbe8347",
   "metadata": {},
   "outputs": [
    {
     "data": {
      "text/plain": [
       "array(['A', 'RH', 'RL', 'I', 'C', 'RM'], dtype=object)"
      ]
     },
     "execution_count": 34,
     "metadata": {},
     "output_type": "execute_result"
    }
   ],
   "source": [
    "df['MZZONE'].unique()"
   ]
  },
  {
   "cell_type": "code",
   "execution_count": 35,
   "id": "7d9901a1",
   "metadata": {},
   "outputs": [],
   "source": [
    "from sklearn.preprocessing import LabelEncoder"
   ]
  },
  {
   "cell_type": "code",
   "execution_count": 36,
   "id": "6c12e4b7",
   "metadata": {},
   "outputs": [],
   "source": [
    "label_enc=LabelEncoder()"
   ]
  },
  {
   "cell_type": "code",
   "execution_count": 37,
   "id": "41a6637a",
   "metadata": {},
   "outputs": [],
   "source": [
    "df['AREA']=label_enc.fit_transform(df['AREA'])\n",
    "df['SALE_COND']=label_enc.fit_transform(df['SALE_COND'])\n",
    "df['UTILITY_AVAIL']=label_enc.fit_transform(df['UTILITY_AVAIL'])"
   ]
  },
  {
   "cell_type": "code",
   "execution_count": 38,
   "id": "14ab89a2",
   "metadata": {},
   "outputs": [],
   "source": [
    "df['MZZONE']=label_enc.fit_transform(df['MZZONE'])"
   ]
  },
  {
   "cell_type": "code",
   "execution_count": 39,
   "id": "728d8c54",
   "metadata": {},
   "outputs": [],
   "source": [
    "df['PRT_ID']=label_enc.fit_transform(df['PRT_ID'])"
   ]
  },
  {
   "cell_type": "code",
   "execution_count": 40,
   "id": "d631c6b2",
   "metadata": {},
   "outputs": [],
   "source": [
    "df=pd.get_dummies(df,columns=['PARK_FACIL'])\n",
    "df=pd.get_dummies(df,columns=['BUILDTYPE'])\n",
    "df=pd.get_dummies(df,columns=['STREET'])"
   ]
  },
  {
   "cell_type": "code",
   "execution_count": 41,
   "id": "c5661f90",
   "metadata": {},
   "outputs": [
    {
     "data": {
      "text/html": [
       "<div>\n",
       "<style scoped>\n",
       "    .dataframe tbody tr th:only-of-type {\n",
       "        vertical-align: middle;\n",
       "    }\n",
       "\n",
       "    .dataframe tbody tr th {\n",
       "        vertical-align: top;\n",
       "    }\n",
       "\n",
       "    .dataframe thead th {\n",
       "        text-align: right;\n",
       "    }\n",
       "</style>\n",
       "<table border=\"1\" class=\"dataframe\">\n",
       "  <thead>\n",
       "    <tr style=\"text-align: right;\">\n",
       "      <th></th>\n",
       "      <th>0</th>\n",
       "      <th>1</th>\n",
       "      <th>2</th>\n",
       "      <th>3</th>\n",
       "      <th>4</th>\n",
       "      <th>5</th>\n",
       "      <th>6</th>\n",
       "      <th>7</th>\n",
       "      <th>8</th>\n",
       "      <th>9</th>\n",
       "      <th>...</th>\n",
       "      <th>7099</th>\n",
       "      <th>7100</th>\n",
       "      <th>7101</th>\n",
       "      <th>7102</th>\n",
       "      <th>7103</th>\n",
       "      <th>7104</th>\n",
       "      <th>7105</th>\n",
       "      <th>7106</th>\n",
       "      <th>7107</th>\n",
       "      <th>7108</th>\n",
       "    </tr>\n",
       "  </thead>\n",
       "  <tbody>\n",
       "    <tr>\n",
       "      <th>PRT_ID</th>\n",
       "      <td>2266.00</td>\n",
       "      <td>6.664000e+03</td>\n",
       "      <td>1270.00</td>\n",
       "      <td>3755.00</td>\n",
       "      <td>4393.00</td>\n",
       "      <td>156.00</td>\n",
       "      <td>6447.00</td>\n",
       "      <td>6858.00</td>\n",
       "      <td>2382.00</td>\n",
       "      <td>6820.00</td>\n",
       "      <td>...</td>\n",
       "      <td>2692.00</td>\n",
       "      <td>3822.00</td>\n",
       "      <td>3525.00</td>\n",
       "      <td>3911.00</td>\n",
       "      <td>3593.00</td>\n",
       "      <td>2697.00</td>\n",
       "      <td>7086.00</td>\n",
       "      <td>6798.00</td>\n",
       "      <td>4601.00</td>\n",
       "      <td>6942.00</td>\n",
       "    </tr>\n",
       "    <tr>\n",
       "      <th>AREA</th>\n",
       "      <td>5.00</td>\n",
       "      <td>2.000000e+00</td>\n",
       "      <td>0.00</td>\n",
       "      <td>7.00</td>\n",
       "      <td>5.00</td>\n",
       "      <td>3.00</td>\n",
       "      <td>3.00</td>\n",
       "      <td>7.00</td>\n",
       "      <td>3.00</td>\n",
       "      <td>7.00</td>\n",
       "      <td>...</td>\n",
       "      <td>0.00</td>\n",
       "      <td>6.00</td>\n",
       "      <td>5.00</td>\n",
       "      <td>5.00</td>\n",
       "      <td>5.00</td>\n",
       "      <td>5.00</td>\n",
       "      <td>7.00</td>\n",
       "      <td>7.00</td>\n",
       "      <td>5.00</td>\n",
       "      <td>7.00</td>\n",
       "    </tr>\n",
       "    <tr>\n",
       "      <th>INT_SQFT</th>\n",
       "      <td>1004.00</td>\n",
       "      <td>1.986000e+03</td>\n",
       "      <td>909.00</td>\n",
       "      <td>1855.00</td>\n",
       "      <td>1226.00</td>\n",
       "      <td>1220.00</td>\n",
       "      <td>1167.00</td>\n",
       "      <td>1847.00</td>\n",
       "      <td>771.00</td>\n",
       "      <td>1635.00</td>\n",
       "      <td>...</td>\n",
       "      <td>895.00</td>\n",
       "      <td>1733.00</td>\n",
       "      <td>666.00</td>\n",
       "      <td>701.00</td>\n",
       "      <td>1462.00</td>\n",
       "      <td>598.00</td>\n",
       "      <td>1897.00</td>\n",
       "      <td>1614.00</td>\n",
       "      <td>787.00</td>\n",
       "      <td>1896.00</td>\n",
       "    </tr>\n",
       "    <tr>\n",
       "      <th>DIST_MAINROAD</th>\n",
       "      <td>131.00</td>\n",
       "      <td>2.600000e+01</td>\n",
       "      <td>70.00</td>\n",
       "      <td>14.00</td>\n",
       "      <td>84.00</td>\n",
       "      <td>36.00</td>\n",
       "      <td>137.00</td>\n",
       "      <td>176.00</td>\n",
       "      <td>175.00</td>\n",
       "      <td>74.00</td>\n",
       "      <td>...</td>\n",
       "      <td>197.00</td>\n",
       "      <td>191.00</td>\n",
       "      <td>51.00</td>\n",
       "      <td>100.00</td>\n",
       "      <td>68.00</td>\n",
       "      <td>51.00</td>\n",
       "      <td>52.00</td>\n",
       "      <td>152.00</td>\n",
       "      <td>40.00</td>\n",
       "      <td>156.00</td>\n",
       "    </tr>\n",
       "    <tr>\n",
       "      <th>N_BEDROOM</th>\n",
       "      <td>1.00</td>\n",
       "      <td>2.000000e+00</td>\n",
       "      <td>1.00</td>\n",
       "      <td>3.00</td>\n",
       "      <td>1.00</td>\n",
       "      <td>2.00</td>\n",
       "      <td>1.00</td>\n",
       "      <td>3.00</td>\n",
       "      <td>1.00</td>\n",
       "      <td>2.00</td>\n",
       "      <td>...</td>\n",
       "      <td>1.00</td>\n",
       "      <td>1.00</td>\n",
       "      <td>1.00</td>\n",
       "      <td>1.00</td>\n",
       "      <td>2.00</td>\n",
       "      <td>1.00</td>\n",
       "      <td>3.00</td>\n",
       "      <td>2.00</td>\n",
       "      <td>1.00</td>\n",
       "      <td>3.00</td>\n",
       "    </tr>\n",
       "    <tr>\n",
       "      <th>N_BATHROOM</th>\n",
       "      <td>1.00</td>\n",
       "      <td>1.000000e+00</td>\n",
       "      <td>1.00</td>\n",
       "      <td>2.00</td>\n",
       "      <td>1.00</td>\n",
       "      <td>1.00</td>\n",
       "      <td>1.00</td>\n",
       "      <td>2.00</td>\n",
       "      <td>1.00</td>\n",
       "      <td>1.00</td>\n",
       "      <td>...</td>\n",
       "      <td>1.00</td>\n",
       "      <td>1.00</td>\n",
       "      <td>1.00</td>\n",
       "      <td>1.00</td>\n",
       "      <td>2.00</td>\n",
       "      <td>1.00</td>\n",
       "      <td>2.00</td>\n",
       "      <td>1.00</td>\n",
       "      <td>1.00</td>\n",
       "      <td>2.00</td>\n",
       "    </tr>\n",
       "    <tr>\n",
       "      <th>N_ROOM</th>\n",
       "      <td>3.00</td>\n",
       "      <td>5.000000e+00</td>\n",
       "      <td>3.00</td>\n",
       "      <td>5.00</td>\n",
       "      <td>3.00</td>\n",
       "      <td>4.00</td>\n",
       "      <td>3.00</td>\n",
       "      <td>5.00</td>\n",
       "      <td>2.00</td>\n",
       "      <td>4.00</td>\n",
       "      <td>...</td>\n",
       "      <td>3.00</td>\n",
       "      <td>4.00</td>\n",
       "      <td>2.00</td>\n",
       "      <td>2.00</td>\n",
       "      <td>4.00</td>\n",
       "      <td>2.00</td>\n",
       "      <td>5.00</td>\n",
       "      <td>4.00</td>\n",
       "      <td>2.00</td>\n",
       "      <td>5.00</td>\n",
       "    </tr>\n",
       "    <tr>\n",
       "      <th>SALE_COND</th>\n",
       "      <td>0.00</td>\n",
       "      <td>0.000000e+00</td>\n",
       "      <td>0.00</td>\n",
       "      <td>2.00</td>\n",
       "      <td>0.00</td>\n",
       "      <td>4.00</td>\n",
       "      <td>4.00</td>\n",
       "      <td>2.00</td>\n",
       "      <td>1.00</td>\n",
       "      <td>0.00</td>\n",
       "      <td>...</td>\n",
       "      <td>1.00</td>\n",
       "      <td>0.00</td>\n",
       "      <td>1.00</td>\n",
       "      <td>0.00</td>\n",
       "      <td>2.00</td>\n",
       "      <td>1.00</td>\n",
       "      <td>2.00</td>\n",
       "      <td>3.00</td>\n",
       "      <td>4.00</td>\n",
       "      <td>4.00</td>\n",
       "    </tr>\n",
       "    <tr>\n",
       "      <th>UTILITY_AVAIL</th>\n",
       "      <td>0.00</td>\n",
       "      <td>0.000000e+00</td>\n",
       "      <td>1.00</td>\n",
       "      <td>3.00</td>\n",
       "      <td>0.00</td>\n",
       "      <td>2.00</td>\n",
       "      <td>0.00</td>\n",
       "      <td>0.00</td>\n",
       "      <td>3.00</td>\n",
       "      <td>1.00</td>\n",
       "      <td>...</td>\n",
       "      <td>3.00</td>\n",
       "      <td>2.00</td>\n",
       "      <td>1.00</td>\n",
       "      <td>2.00</td>\n",
       "      <td>2.00</td>\n",
       "      <td>1.00</td>\n",
       "      <td>2.00</td>\n",
       "      <td>2.00</td>\n",
       "      <td>1.00</td>\n",
       "      <td>1.00</td>\n",
       "    </tr>\n",
       "    <tr>\n",
       "      <th>MZZONE</th>\n",
       "      <td>0.00</td>\n",
       "      <td>3.000000e+00</td>\n",
       "      <td>4.00</td>\n",
       "      <td>2.00</td>\n",
       "      <td>1.00</td>\n",
       "      <td>3.00</td>\n",
       "      <td>4.00</td>\n",
       "      <td>5.00</td>\n",
       "      <td>5.00</td>\n",
       "      <td>2.00</td>\n",
       "      <td>...</td>\n",
       "      <td>2.00</td>\n",
       "      <td>4.00</td>\n",
       "      <td>2.00</td>\n",
       "      <td>3.00</td>\n",
       "      <td>5.00</td>\n",
       "      <td>5.00</td>\n",
       "      <td>3.00</td>\n",
       "      <td>2.00</td>\n",
       "      <td>4.00</td>\n",
       "      <td>2.00</td>\n",
       "    </tr>\n",
       "    <tr>\n",
       "      <th>QS_ROOMS</th>\n",
       "      <td>4.00</td>\n",
       "      <td>4.900000e+00</td>\n",
       "      <td>4.10</td>\n",
       "      <td>4.70</td>\n",
       "      <td>3.00</td>\n",
       "      <td>4.50</td>\n",
       "      <td>3.60</td>\n",
       "      <td>2.40</td>\n",
       "      <td>2.90</td>\n",
       "      <td>3.10</td>\n",
       "      <td>...</td>\n",
       "      <td>3.60</td>\n",
       "      <td>3.40</td>\n",
       "      <td>3.20</td>\n",
       "      <td>4.20</td>\n",
       "      <td>2.70</td>\n",
       "      <td>3.00</td>\n",
       "      <td>3.60</td>\n",
       "      <td>4.30</td>\n",
       "      <td>4.60</td>\n",
       "      <td>3.10</td>\n",
       "    </tr>\n",
       "    <tr>\n",
       "      <th>QS_BATHROOM</th>\n",
       "      <td>3.90</td>\n",
       "      <td>4.200000e+00</td>\n",
       "      <td>3.80</td>\n",
       "      <td>3.90</td>\n",
       "      <td>2.50</td>\n",
       "      <td>2.60</td>\n",
       "      <td>2.10</td>\n",
       "      <td>4.50</td>\n",
       "      <td>3.70</td>\n",
       "      <td>3.10</td>\n",
       "      <td>...</td>\n",
       "      <td>4.70</td>\n",
       "      <td>3.70</td>\n",
       "      <td>4.40</td>\n",
       "      <td>3.00</td>\n",
       "      <td>3.30</td>\n",
       "      <td>2.20</td>\n",
       "      <td>4.50</td>\n",
       "      <td>4.20</td>\n",
       "      <td>3.80</td>\n",
       "      <td>3.50</td>\n",
       "    </tr>\n",
       "    <tr>\n",
       "      <th>QS_BEDROOM</th>\n",
       "      <td>4.90</td>\n",
       "      <td>2.500000e+00</td>\n",
       "      <td>2.20</td>\n",
       "      <td>3.60</td>\n",
       "      <td>4.10</td>\n",
       "      <td>3.10</td>\n",
       "      <td>2.50</td>\n",
       "      <td>2.10</td>\n",
       "      <td>4.00</td>\n",
       "      <td>3.30</td>\n",
       "      <td>...</td>\n",
       "      <td>4.20</td>\n",
       "      <td>2.10</td>\n",
       "      <td>2.50</td>\n",
       "      <td>2.00</td>\n",
       "      <td>3.60</td>\n",
       "      <td>2.40</td>\n",
       "      <td>3.30</td>\n",
       "      <td>2.90</td>\n",
       "      <td>4.10</td>\n",
       "      <td>4.30</td>\n",
       "    </tr>\n",
       "    <tr>\n",
       "      <th>QS_OVERALL</th>\n",
       "      <td>4.33</td>\n",
       "      <td>3.765000e+00</td>\n",
       "      <td>3.09</td>\n",
       "      <td>4.01</td>\n",
       "      <td>3.29</td>\n",
       "      <td>3.32</td>\n",
       "      <td>2.67</td>\n",
       "      <td>3.26</td>\n",
       "      <td>3.55</td>\n",
       "      <td>3.16</td>\n",
       "      <td>...</td>\n",
       "      <td>4.12</td>\n",
       "      <td>2.89</td>\n",
       "      <td>3.28</td>\n",
       "      <td>2.96</td>\n",
       "      <td>3.24</td>\n",
       "      <td>2.52</td>\n",
       "      <td>3.92</td>\n",
       "      <td>3.84</td>\n",
       "      <td>4.16</td>\n",
       "      <td>3.64</td>\n",
       "    </tr>\n",
       "    <tr>\n",
       "      <th>COMMIS</th>\n",
       "      <td>144400.00</td>\n",
       "      <td>3.040490e+05</td>\n",
       "      <td>92114.00</td>\n",
       "      <td>77042.00</td>\n",
       "      <td>74063.00</td>\n",
       "      <td>198316.00</td>\n",
       "      <td>33955.00</td>\n",
       "      <td>235204.00</td>\n",
       "      <td>33236.00</td>\n",
       "      <td>121255.00</td>\n",
       "      <td>...</td>\n",
       "      <td>7372.00</td>\n",
       "      <td>312026.00</td>\n",
       "      <td>74541.00</td>\n",
       "      <td>141088.00</td>\n",
       "      <td>178358.00</td>\n",
       "      <td>107060.00</td>\n",
       "      <td>205551.00</td>\n",
       "      <td>167028.00</td>\n",
       "      <td>119098.00</td>\n",
       "      <td>79812.00</td>\n",
       "    </tr>\n",
       "    <tr>\n",
       "      <th>SALES_PRICE</th>\n",
       "      <td>7600000.00</td>\n",
       "      <td>2.171777e+07</td>\n",
       "      <td>13159200.00</td>\n",
       "      <td>9630290.00</td>\n",
       "      <td>7406250.00</td>\n",
       "      <td>12394750.00</td>\n",
       "      <td>8488790.00</td>\n",
       "      <td>16800250.00</td>\n",
       "      <td>8308970.00</td>\n",
       "      <td>8083650.00</td>\n",
       "      <td>...</td>\n",
       "      <td>7371800.00</td>\n",
       "      <td>19501600.00</td>\n",
       "      <td>6211750.00</td>\n",
       "      <td>5643500.00</td>\n",
       "      <td>9387250.00</td>\n",
       "      <td>5353000.00</td>\n",
       "      <td>10818480.00</td>\n",
       "      <td>8351410.00</td>\n",
       "      <td>8507000.00</td>\n",
       "      <td>9976480.00</td>\n",
       "    </tr>\n",
       "    <tr>\n",
       "      <th>PARK_FACIL_No</th>\n",
       "      <td>0.00</td>\n",
       "      <td>1.000000e+00</td>\n",
       "      <td>0.00</td>\n",
       "      <td>1.00</td>\n",
       "      <td>0.00</td>\n",
       "      <td>1.00</td>\n",
       "      <td>1.00</td>\n",
       "      <td>1.00</td>\n",
       "      <td>1.00</td>\n",
       "      <td>1.00</td>\n",
       "      <td>...</td>\n",
       "      <td>0.00</td>\n",
       "      <td>0.00</td>\n",
       "      <td>0.00</td>\n",
       "      <td>1.00</td>\n",
       "      <td>1.00</td>\n",
       "      <td>1.00</td>\n",
       "      <td>0.00</td>\n",
       "      <td>1.00</td>\n",
       "      <td>0.00</td>\n",
       "      <td>0.00</td>\n",
       "    </tr>\n",
       "    <tr>\n",
       "      <th>PARK_FACIL_Yes</th>\n",
       "      <td>1.00</td>\n",
       "      <td>0.000000e+00</td>\n",
       "      <td>1.00</td>\n",
       "      <td>0.00</td>\n",
       "      <td>1.00</td>\n",
       "      <td>0.00</td>\n",
       "      <td>0.00</td>\n",
       "      <td>0.00</td>\n",
       "      <td>0.00</td>\n",
       "      <td>0.00</td>\n",
       "      <td>...</td>\n",
       "      <td>1.00</td>\n",
       "      <td>1.00</td>\n",
       "      <td>1.00</td>\n",
       "      <td>0.00</td>\n",
       "      <td>0.00</td>\n",
       "      <td>0.00</td>\n",
       "      <td>1.00</td>\n",
       "      <td>0.00</td>\n",
       "      <td>1.00</td>\n",
       "      <td>1.00</td>\n",
       "    </tr>\n",
       "    <tr>\n",
       "      <th>BUILDTYPE_Commercial</th>\n",
       "      <td>1.00</td>\n",
       "      <td>1.000000e+00</td>\n",
       "      <td>1.00</td>\n",
       "      <td>0.00</td>\n",
       "      <td>0.00</td>\n",
       "      <td>1.00</td>\n",
       "      <td>0.00</td>\n",
       "      <td>1.00</td>\n",
       "      <td>0.00</td>\n",
       "      <td>0.00</td>\n",
       "      <td>...</td>\n",
       "      <td>0.00</td>\n",
       "      <td>1.00</td>\n",
       "      <td>0.00</td>\n",
       "      <td>0.00</td>\n",
       "      <td>0.00</td>\n",
       "      <td>0.00</td>\n",
       "      <td>0.00</td>\n",
       "      <td>0.00</td>\n",
       "      <td>1.00</td>\n",
       "      <td>0.00</td>\n",
       "    </tr>\n",
       "    <tr>\n",
       "      <th>BUILDTYPE_House</th>\n",
       "      <td>0.00</td>\n",
       "      <td>0.000000e+00</td>\n",
       "      <td>0.00</td>\n",
       "      <td>0.00</td>\n",
       "      <td>0.00</td>\n",
       "      <td>0.00</td>\n",
       "      <td>0.00</td>\n",
       "      <td>0.00</td>\n",
       "      <td>0.00</td>\n",
       "      <td>0.00</td>\n",
       "      <td>...</td>\n",
       "      <td>1.00</td>\n",
       "      <td>0.00</td>\n",
       "      <td>0.00</td>\n",
       "      <td>1.00</td>\n",
       "      <td>0.00</td>\n",
       "      <td>0.00</td>\n",
       "      <td>0.00</td>\n",
       "      <td>1.00</td>\n",
       "      <td>0.00</td>\n",
       "      <td>0.00</td>\n",
       "    </tr>\n",
       "    <tr>\n",
       "      <th>BUILDTYPE_Others</th>\n",
       "      <td>0.00</td>\n",
       "      <td>0.000000e+00</td>\n",
       "      <td>0.00</td>\n",
       "      <td>1.00</td>\n",
       "      <td>1.00</td>\n",
       "      <td>0.00</td>\n",
       "      <td>1.00</td>\n",
       "      <td>0.00</td>\n",
       "      <td>1.00</td>\n",
       "      <td>1.00</td>\n",
       "      <td>...</td>\n",
       "      <td>0.00</td>\n",
       "      <td>0.00</td>\n",
       "      <td>1.00</td>\n",
       "      <td>0.00</td>\n",
       "      <td>1.00</td>\n",
       "      <td>1.00</td>\n",
       "      <td>1.00</td>\n",
       "      <td>0.00</td>\n",
       "      <td>0.00</td>\n",
       "      <td>1.00</td>\n",
       "    </tr>\n",
       "    <tr>\n",
       "      <th>STREET_Gravel</th>\n",
       "      <td>0.00</td>\n",
       "      <td>1.000000e+00</td>\n",
       "      <td>1.00</td>\n",
       "      <td>0.00</td>\n",
       "      <td>1.00</td>\n",
       "      <td>0.00</td>\n",
       "      <td>0.00</td>\n",
       "      <td>1.00</td>\n",
       "      <td>0.00</td>\n",
       "      <td>0.00</td>\n",
       "      <td>...</td>\n",
       "      <td>0.00</td>\n",
       "      <td>0.00</td>\n",
       "      <td>1.00</td>\n",
       "      <td>1.00</td>\n",
       "      <td>1.00</td>\n",
       "      <td>0.00</td>\n",
       "      <td>0.00</td>\n",
       "      <td>1.00</td>\n",
       "      <td>0.00</td>\n",
       "      <td>0.00</td>\n",
       "    </tr>\n",
       "    <tr>\n",
       "      <th>STREET_No Access</th>\n",
       "      <td>0.00</td>\n",
       "      <td>0.000000e+00</td>\n",
       "      <td>0.00</td>\n",
       "      <td>0.00</td>\n",
       "      <td>0.00</td>\n",
       "      <td>1.00</td>\n",
       "      <td>1.00</td>\n",
       "      <td>0.00</td>\n",
       "      <td>0.00</td>\n",
       "      <td>1.00</td>\n",
       "      <td>...</td>\n",
       "      <td>1.00</td>\n",
       "      <td>1.00</td>\n",
       "      <td>0.00</td>\n",
       "      <td>0.00</td>\n",
       "      <td>0.00</td>\n",
       "      <td>1.00</td>\n",
       "      <td>1.00</td>\n",
       "      <td>0.00</td>\n",
       "      <td>0.00</td>\n",
       "      <td>0.00</td>\n",
       "    </tr>\n",
       "    <tr>\n",
       "      <th>STREET_Paved</th>\n",
       "      <td>1.00</td>\n",
       "      <td>0.000000e+00</td>\n",
       "      <td>0.00</td>\n",
       "      <td>1.00</td>\n",
       "      <td>0.00</td>\n",
       "      <td>0.00</td>\n",
       "      <td>0.00</td>\n",
       "      <td>0.00</td>\n",
       "      <td>1.00</td>\n",
       "      <td>0.00</td>\n",
       "      <td>...</td>\n",
       "      <td>0.00</td>\n",
       "      <td>0.00</td>\n",
       "      <td>0.00</td>\n",
       "      <td>0.00</td>\n",
       "      <td>0.00</td>\n",
       "      <td>0.00</td>\n",
       "      <td>0.00</td>\n",
       "      <td>0.00</td>\n",
       "      <td>1.00</td>\n",
       "      <td>1.00</td>\n",
       "    </tr>\n",
       "  </tbody>\n",
       "</table>\n",
       "<p>24 rows × 7109 columns</p>\n",
       "</div>"
      ],
      "text/plain": [
       "                            0             1            2           3     \\\n",
       "PRT_ID                   2266.00  6.664000e+03      1270.00     3755.00   \n",
       "AREA                        5.00  2.000000e+00         0.00        7.00   \n",
       "INT_SQFT                 1004.00  1.986000e+03       909.00     1855.00   \n",
       "DIST_MAINROAD             131.00  2.600000e+01        70.00       14.00   \n",
       "N_BEDROOM                   1.00  2.000000e+00         1.00        3.00   \n",
       "N_BATHROOM                  1.00  1.000000e+00         1.00        2.00   \n",
       "N_ROOM                      3.00  5.000000e+00         3.00        5.00   \n",
       "SALE_COND                   0.00  0.000000e+00         0.00        2.00   \n",
       "UTILITY_AVAIL               0.00  0.000000e+00         1.00        3.00   \n",
       "MZZONE                      0.00  3.000000e+00         4.00        2.00   \n",
       "QS_ROOMS                    4.00  4.900000e+00         4.10        4.70   \n",
       "QS_BATHROOM                 3.90  4.200000e+00         3.80        3.90   \n",
       "QS_BEDROOM                  4.90  2.500000e+00         2.20        3.60   \n",
       "QS_OVERALL                  4.33  3.765000e+00         3.09        4.01   \n",
       "COMMIS                 144400.00  3.040490e+05     92114.00    77042.00   \n",
       "SALES_PRICE           7600000.00  2.171777e+07  13159200.00  9630290.00   \n",
       "PARK_FACIL_No               0.00  1.000000e+00         0.00        1.00   \n",
       "PARK_FACIL_Yes              1.00  0.000000e+00         1.00        0.00   \n",
       "BUILDTYPE_Commercial        1.00  1.000000e+00         1.00        0.00   \n",
       "BUILDTYPE_House             0.00  0.000000e+00         0.00        0.00   \n",
       "BUILDTYPE_Others            0.00  0.000000e+00         0.00        1.00   \n",
       "STREET_Gravel               0.00  1.000000e+00         1.00        0.00   \n",
       "STREET_No Access            0.00  0.000000e+00         0.00        0.00   \n",
       "STREET_Paved                1.00  0.000000e+00         0.00        1.00   \n",
       "\n",
       "                            4            5           6            7     \\\n",
       "PRT_ID                   4393.00       156.00     6447.00      6858.00   \n",
       "AREA                        5.00         3.00        3.00         7.00   \n",
       "INT_SQFT                 1226.00      1220.00     1167.00      1847.00   \n",
       "DIST_MAINROAD              84.00        36.00      137.00       176.00   \n",
       "N_BEDROOM                   1.00         2.00        1.00         3.00   \n",
       "N_BATHROOM                  1.00         1.00        1.00         2.00   \n",
       "N_ROOM                      3.00         4.00        3.00         5.00   \n",
       "SALE_COND                   0.00         4.00        4.00         2.00   \n",
       "UTILITY_AVAIL               0.00         2.00        0.00         0.00   \n",
       "MZZONE                      1.00         3.00        4.00         5.00   \n",
       "QS_ROOMS                    3.00         4.50        3.60         2.40   \n",
       "QS_BATHROOM                 2.50         2.60        2.10         4.50   \n",
       "QS_BEDROOM                  4.10         3.10        2.50         2.10   \n",
       "QS_OVERALL                  3.29         3.32        2.67         3.26   \n",
       "COMMIS                  74063.00    198316.00    33955.00    235204.00   \n",
       "SALES_PRICE           7406250.00  12394750.00  8488790.00  16800250.00   \n",
       "PARK_FACIL_No               0.00         1.00        1.00         1.00   \n",
       "PARK_FACIL_Yes              1.00         0.00        0.00         0.00   \n",
       "BUILDTYPE_Commercial        0.00         1.00        0.00         1.00   \n",
       "BUILDTYPE_House             0.00         0.00        0.00         0.00   \n",
       "BUILDTYPE_Others            1.00         0.00        1.00         0.00   \n",
       "STREET_Gravel               1.00         0.00        0.00         1.00   \n",
       "STREET_No Access            0.00         1.00        1.00         0.00   \n",
       "STREET_Paved                0.00         0.00        0.00         0.00   \n",
       "\n",
       "                            8           9     ...        7099         7100  \\\n",
       "PRT_ID                   2382.00     6820.00  ...     2692.00      3822.00   \n",
       "AREA                        3.00        7.00  ...        0.00         6.00   \n",
       "INT_SQFT                  771.00     1635.00  ...      895.00      1733.00   \n",
       "DIST_MAINROAD             175.00       74.00  ...      197.00       191.00   \n",
       "N_BEDROOM                   1.00        2.00  ...        1.00         1.00   \n",
       "N_BATHROOM                  1.00        1.00  ...        1.00         1.00   \n",
       "N_ROOM                      2.00        4.00  ...        3.00         4.00   \n",
       "SALE_COND                   1.00        0.00  ...        1.00         0.00   \n",
       "UTILITY_AVAIL               3.00        1.00  ...        3.00         2.00   \n",
       "MZZONE                      5.00        2.00  ...        2.00         4.00   \n",
       "QS_ROOMS                    2.90        3.10  ...        3.60         3.40   \n",
       "QS_BATHROOM                 3.70        3.10  ...        4.70         3.70   \n",
       "QS_BEDROOM                  4.00        3.30  ...        4.20         2.10   \n",
       "QS_OVERALL                  3.55        3.16  ...        4.12         2.89   \n",
       "COMMIS                  33236.00   121255.00  ...     7372.00    312026.00   \n",
       "SALES_PRICE           8308970.00  8083650.00  ...  7371800.00  19501600.00   \n",
       "PARK_FACIL_No               1.00        1.00  ...        0.00         0.00   \n",
       "PARK_FACIL_Yes              0.00        0.00  ...        1.00         1.00   \n",
       "BUILDTYPE_Commercial        0.00        0.00  ...        0.00         1.00   \n",
       "BUILDTYPE_House             0.00        0.00  ...        1.00         0.00   \n",
       "BUILDTYPE_Others            1.00        1.00  ...        0.00         0.00   \n",
       "STREET_Gravel               0.00        0.00  ...        0.00         0.00   \n",
       "STREET_No Access            0.00        1.00  ...        1.00         1.00   \n",
       "STREET_Paved                1.00        0.00  ...        0.00         0.00   \n",
       "\n",
       "                            7101        7102        7103        7104  \\\n",
       "PRT_ID                   3525.00     3911.00     3593.00     2697.00   \n",
       "AREA                        5.00        5.00        5.00        5.00   \n",
       "INT_SQFT                  666.00      701.00     1462.00      598.00   \n",
       "DIST_MAINROAD              51.00      100.00       68.00       51.00   \n",
       "N_BEDROOM                   1.00        1.00        2.00        1.00   \n",
       "N_BATHROOM                  1.00        1.00        2.00        1.00   \n",
       "N_ROOM                      2.00        2.00        4.00        2.00   \n",
       "SALE_COND                   1.00        0.00        2.00        1.00   \n",
       "UTILITY_AVAIL               1.00        2.00        2.00        1.00   \n",
       "MZZONE                      2.00        3.00        5.00        5.00   \n",
       "QS_ROOMS                    3.20        4.20        2.70        3.00   \n",
       "QS_BATHROOM                 4.40        3.00        3.30        2.20   \n",
       "QS_BEDROOM                  2.50        2.00        3.60        2.40   \n",
       "QS_OVERALL                  3.28        2.96        3.24        2.52   \n",
       "COMMIS                  74541.00   141088.00   178358.00   107060.00   \n",
       "SALES_PRICE           6211750.00  5643500.00  9387250.00  5353000.00   \n",
       "PARK_FACIL_No               0.00        1.00        1.00        1.00   \n",
       "PARK_FACIL_Yes              1.00        0.00        0.00        0.00   \n",
       "BUILDTYPE_Commercial        0.00        0.00        0.00        0.00   \n",
       "BUILDTYPE_House             0.00        1.00        0.00        0.00   \n",
       "BUILDTYPE_Others            1.00        0.00        1.00        1.00   \n",
       "STREET_Gravel               1.00        1.00        1.00        0.00   \n",
       "STREET_No Access            0.00        0.00        0.00        1.00   \n",
       "STREET_Paved                0.00        0.00        0.00        0.00   \n",
       "\n",
       "                             7105        7106        7107        7108  \n",
       "PRT_ID                    7086.00     6798.00     4601.00     6942.00  \n",
       "AREA                         7.00        7.00        5.00        7.00  \n",
       "INT_SQFT                  1897.00     1614.00      787.00     1896.00  \n",
       "DIST_MAINROAD               52.00      152.00       40.00      156.00  \n",
       "N_BEDROOM                    3.00        2.00        1.00        3.00  \n",
       "N_BATHROOM                   2.00        1.00        1.00        2.00  \n",
       "N_ROOM                       5.00        4.00        2.00        5.00  \n",
       "SALE_COND                    2.00        3.00        4.00        4.00  \n",
       "UTILITY_AVAIL                2.00        2.00        1.00        1.00  \n",
       "MZZONE                       3.00        2.00        4.00        2.00  \n",
       "QS_ROOMS                     3.60        4.30        4.60        3.10  \n",
       "QS_BATHROOM                  4.50        4.20        3.80        3.50  \n",
       "QS_BEDROOM                   3.30        2.90        4.10        4.30  \n",
       "QS_OVERALL                   3.92        3.84        4.16        3.64  \n",
       "COMMIS                  205551.00   167028.00   119098.00    79812.00  \n",
       "SALES_PRICE           10818480.00  8351410.00  8507000.00  9976480.00  \n",
       "PARK_FACIL_No                0.00        1.00        0.00        0.00  \n",
       "PARK_FACIL_Yes               1.00        0.00        1.00        1.00  \n",
       "BUILDTYPE_Commercial         0.00        0.00        1.00        0.00  \n",
       "BUILDTYPE_House              0.00        1.00        0.00        0.00  \n",
       "BUILDTYPE_Others             1.00        0.00        0.00        1.00  \n",
       "STREET_Gravel                0.00        1.00        0.00        0.00  \n",
       "STREET_No Access             1.00        0.00        0.00        0.00  \n",
       "STREET_Paved                 0.00        0.00        1.00        1.00  \n",
       "\n",
       "[24 rows x 7109 columns]"
      ]
     },
     "execution_count": 41,
     "metadata": {},
     "output_type": "execute_result"
    }
   ],
   "source": [
    "df.T"
   ]
  },
  {
   "cell_type": "code",
   "execution_count": 42,
   "id": "607d9ee9",
   "metadata": {},
   "outputs": [
    {
     "name": "stdout",
     "output_type": "stream",
     "text": [
      "<class 'pandas.core.frame.DataFrame'>\n",
      "RangeIndex: 7109 entries, 0 to 7108\n",
      "Data columns (total 24 columns):\n",
      " #   Column                Non-Null Count  Dtype  \n",
      "---  ------                --------------  -----  \n",
      " 0   PRT_ID                7109 non-null   int32  \n",
      " 1   AREA                  7109 non-null   int32  \n",
      " 2   INT_SQFT              7109 non-null   int64  \n",
      " 3   DIST_MAINROAD         7109 non-null   int64  \n",
      " 4   N_BEDROOM             7109 non-null   float64\n",
      " 5   N_BATHROOM            7109 non-null   float64\n",
      " 6   N_ROOM                7109 non-null   int64  \n",
      " 7   SALE_COND             7109 non-null   int32  \n",
      " 8   UTILITY_AVAIL         7109 non-null   int32  \n",
      " 9   MZZONE                7109 non-null   int32  \n",
      " 10  QS_ROOMS              7109 non-null   float64\n",
      " 11  QS_BATHROOM           7109 non-null   float64\n",
      " 12  QS_BEDROOM            7109 non-null   float64\n",
      " 13  QS_OVERALL            7109 non-null   float64\n",
      " 14  COMMIS                7109 non-null   int64  \n",
      " 15  SALES_PRICE           7109 non-null   int64  \n",
      " 16  PARK_FACIL_No         7109 non-null   uint8  \n",
      " 17  PARK_FACIL_Yes        7109 non-null   uint8  \n",
      " 18  BUILDTYPE_Commercial  7109 non-null   uint8  \n",
      " 19  BUILDTYPE_House       7109 non-null   uint8  \n",
      " 20  BUILDTYPE_Others      7109 non-null   uint8  \n",
      " 21  STREET_Gravel         7109 non-null   uint8  \n",
      " 22  STREET_No Access      7109 non-null   uint8  \n",
      " 23  STREET_Paved          7109 non-null   uint8  \n",
      "dtypes: float64(6), int32(5), int64(5), uint8(8)\n",
      "memory usage: 805.4 KB\n"
     ]
    }
   ],
   "source": [
    "df.info()"
   ]
  },
  {
   "cell_type": "code",
   "execution_count": 43,
   "id": "67c0f070",
   "metadata": {},
   "outputs": [
    {
     "data": {
      "text/plain": [
       "PRT_ID                  0\n",
       "AREA                    0\n",
       "INT_SQFT                0\n",
       "DIST_MAINROAD           0\n",
       "N_BEDROOM               0\n",
       "N_BATHROOM              0\n",
       "N_ROOM                  0\n",
       "SALE_COND               0\n",
       "UTILITY_AVAIL           0\n",
       "MZZONE                  0\n",
       "QS_ROOMS                0\n",
       "QS_BATHROOM             0\n",
       "QS_BEDROOM              0\n",
       "QS_OVERALL              0\n",
       "COMMIS                  0\n",
       "SALES_PRICE             0\n",
       "PARK_FACIL_No           0\n",
       "PARK_FACIL_Yes          0\n",
       "BUILDTYPE_Commercial    0\n",
       "BUILDTYPE_House         0\n",
       "BUILDTYPE_Others        0\n",
       "STREET_Gravel           0\n",
       "STREET_No Access        0\n",
       "STREET_Paved            0\n",
       "dtype: int64"
      ]
     },
     "execution_count": 43,
     "metadata": {},
     "output_type": "execute_result"
    }
   ],
   "source": [
    "df.isnull().sum()"
   ]
  },
  {
   "cell_type": "code",
   "execution_count": 44,
   "id": "8ffc8e97",
   "metadata": {},
   "outputs": [
    {
     "data": {
      "text/plain": [
       "<AxesSubplot:>"
      ]
     },
     "execution_count": 44,
     "metadata": {},
     "output_type": "execute_result"
    },
    {
     "data": {
      "image/png": "[encoded data removed]",
      "text/plain": [
       "<Figure size 1440x1080 with 2 Axes>"
      ]
     },
     "metadata": {
      "needs_background": "light"
     },
     "output_type": "display_data"
    }
   ],
   "source": [
    "plt.figure(figsize=[20,15])\n",
    "sns.heatmap(df.corr(),annot=True)"
   ]
  },
  {
   "cell_type": "code",
   "execution_count": 45,
   "id": "7ad0ce03",
   "metadata": {},
   "outputs": [
    {
     "data": {
      "text/plain": [
       "Index(['PRT_ID', 'AREA', 'INT_SQFT', 'DIST_MAINROAD', 'N_BEDROOM',\n",
       "       'N_BATHROOM', 'N_ROOM', 'SALE_COND', 'UTILITY_AVAIL', 'MZZONE',\n",
       "       'QS_ROOMS', 'QS_BATHROOM', 'QS_BEDROOM', 'QS_OVERALL', 'COMMIS',\n",
       "       'SALES_PRICE', 'PARK_FACIL_No', 'PARK_FACIL_Yes',\n",
       "       'BUILDTYPE_Commercial', 'BUILDTYPE_House', 'BUILDTYPE_Others',\n",
       "       'STREET_Gravel', 'STREET_No Access', 'STREET_Paved'],\n",
       "      dtype='object')"
      ]
     },
     "execution_count": 45,
     "metadata": {},
     "output_type": "execute_result"
    }
   ],
   "source": [
    "df.columns"
   ]
  },
  {
   "cell_type": "markdown",
   "id": "26e2b706",
   "metadata": {},
   "source": [
    "# df['INT_SQFT']"
   ]
  },
  {
   "cell_type": "code",
   "execution_count": 46,
   "id": "1a6a10fd",
   "metadata": {},
   "outputs": [
    {
     "data": {
      "text/plain": [
       "1699"
      ]
     },
     "execution_count": 46,
     "metadata": {},
     "output_type": "execute_result"
    }
   ],
   "source": [
    "df['INT_SQFT'].nunique()          # corr is 0.61"
   ]
  },
  {
   "cell_type": "code",
   "execution_count": 47,
   "id": "368633ce",
   "metadata": {},
   "outputs": [
    {
     "data": {
      "text/plain": [
       "<AxesSubplot:xlabel='INT_SQFT', ylabel='Density'>"
      ]
     },
     "execution_count": 47,
     "metadata": {},
     "output_type": "execute_result"
    },
    {
     "data": {
      "image/png": "[encoded data removed]",
      "text/plain": [
       "<Figure size 432x288 with 1 Axes>"
      ]
     },
     "metadata": {
      "needs_background": "light"
     },
     "output_type": "display_data"
    }
   ],
   "source": [
    "sns.kdeplot(df['INT_SQFT'])"
   ]
  },
  {
   "cell_type": "code",
   "execution_count": 48,
   "id": "f4d6c4b3",
   "metadata": {},
   "outputs": [
    {
     "name": "stderr",
     "output_type": "stream",
     "text": [
      "C:\\Users\\Admin\\anaconda3\\lib\\site-packages\\seaborn\\_decorators.py:36: FutureWarning: Pass the following variable as a keyword arg: x. From version 0.12, the only valid positional argument will be `data`, and passing other arguments without an explicit keyword will result in an error or misinterpretation.\n",
      "  warnings.warn(\n"
     ]
    },
    {
     "data": {
      "text/plain": [
       "<AxesSubplot:xlabel='INT_SQFT'>"
      ]
     },
     "execution_count": 48,
     "metadata": {},
     "output_type": "execute_result"
    },
    {
     "data": {
      "image/png": "[encoded data removed]",
      "text/plain": [
       "<Figure size 432x288 with 1 Axes>"
      ]
     },
     "metadata": {
      "needs_background": "light"
     },
     "output_type": "display_data"
    }
   ],
   "source": [
    "sns.boxplot(df['INT_SQFT'])      # no outliers"
   ]
  },
  {
   "cell_type": "code",
   "execution_count": 49,
   "id": "8c83d4f5",
   "metadata": {},
   "outputs": [],
   "source": [
    "from scipy.stats import normaltest,shapiro"
   ]
  },
  {
   "cell_type": "code",
   "execution_count": 50,
   "id": "ff046b4e",
   "metadata": {},
   "outputs": [
    {
     "name": "stdout",
     "output_type": "stream",
     "text": [
      "1.4300814116463205e-202\n",
      "Data is not normally distributed\n"
     ]
    }
   ],
   "source": [
    "a,p_value=normaltest(df['INT_SQFT'])\n",
    "print(p_value)\n",
    "alpha=0.05\n",
    "if p_value>alpha:\n",
    "    print('Data is normally distributed')\n",
    "else :\n",
    "    print('Data is not normally distributed')"
   ]
  },
  {
   "cell_type": "code",
   "execution_count": 51,
   "id": "b5e397cc",
   "metadata": {},
   "outputs": [
    {
     "name": "stdout",
     "output_type": "stream",
     "text": [
      "1.5501356789762224e-35\n",
      "Data is not normally distributed\n"
     ]
    },
    {
     "name": "stderr",
     "output_type": "stream",
     "text": [
      "C:\\Users\\Admin\\anaconda3\\lib\\site-packages\\scipy\\stats\\morestats.py:1760: UserWarning: p-value may not be accurate for N > 5000.\n",
      "  warnings.warn(\"p-value may not be accurate for N > 5000.\")\n"
     ]
    }
   ],
   "source": [
    "a,p_value=shapiro(df['INT_SQFT'])\n",
    "print(p_value)\n",
    "alpha=0.05\n",
    "if p_value>alpha:\n",
    "    print('Data is normally distributed')\n",
    "else :\n",
    "    print('Data is not normally distributed')"
   ]
  },
  {
   "cell_type": "markdown",
   "id": "832a0a37",
   "metadata": {},
   "source": [
    "# df['DIST_MAINROAD']"
   ]
  },
  {
   "cell_type": "code",
   "execution_count": 52,
   "id": "cfe90537",
   "metadata": {},
   "outputs": [
    {
     "data": {
      "text/plain": [
       "<AxesSubplot:xlabel='DIST_MAINROAD', ylabel='Density'>"
      ]
     },
     "execution_count": 52,
     "metadata": {},
     "output_type": "execute_result"
    },
    {
     "data": {
      "image/png": "[encoded data removed]",
      "text/plain": [
       "<Figure size 432x288 with 1 Axes>"
      ]
     },
     "metadata": {
      "needs_background": "light"
     },
     "output_type": "display_data"
    }
   ],
   "source": [
    "sns.kdeplot(df['DIST_MAINROAD'])"
   ]
  },
  {
   "cell_type": "code",
   "execution_count": 53,
   "id": "a026f210",
   "metadata": {},
   "outputs": [
    {
     "name": "stdout",
     "output_type": "stream",
     "text": [
      "0.0\n",
      "Data is not normally distributed\n"
     ]
    }
   ],
   "source": [
    "a,p_value=normaltest(df['DIST_MAINROAD'])\n",
    "print(p_value)\n",
    "alpha=0.05\n",
    "if p_value>alpha:\n",
    "    print('Data is normally distributed')\n",
    "else :\n",
    "    print('Data is not normally distributed')"
   ]
  },
  {
   "cell_type": "code",
   "execution_count": 54,
   "id": "41753c80",
   "metadata": {},
   "outputs": [
    {
     "name": "stdout",
     "output_type": "stream",
     "text": [
      "1.0\n",
      "Data is normally distributed\n"
     ]
    },
    {
     "name": "stderr",
     "output_type": "stream",
     "text": [
      "C:\\Users\\Admin\\anaconda3\\lib\\site-packages\\pandas\\core\\arraylike.py:364: RuntimeWarning: divide by zero encountered in log\n",
      "  result = getattr(ufunc, method)(*inputs, **kwargs)\n",
      "C:\\Users\\Admin\\anaconda3\\lib\\site-packages\\scipy\\stats\\morestats.py:1760: UserWarning: p-value may not be accurate for N > 5000.\n",
      "  warnings.warn(\"p-value may not be accurate for N > 5000.\")\n"
     ]
    }
   ],
   "source": [
    "a,p_value=shapiro(np.log(df['DIST_MAINROAD']))  # log tranform\n",
    "print(p_value)\n",
    "alpha=0.05\n",
    "if p_value>alpha:\n",
    "    print('Data is normally distributed')\n",
    "else :\n",
    "    print('Data is not normally distributed')"
   ]
  },
  {
   "cell_type": "code",
   "execution_count": 55,
   "id": "354631fc",
   "metadata": {},
   "outputs": [
    {
     "name": "stderr",
     "output_type": "stream",
     "text": [
      "C:\\Users\\Admin\\anaconda3\\lib\\site-packages\\seaborn\\_decorators.py:36: FutureWarning: Pass the following variable as a keyword arg: x. From version 0.12, the only valid positional argument will be `data`, and passing other arguments without an explicit keyword will result in an error or misinterpretation.\n",
      "  warnings.warn(\n"
     ]
    },
    {
     "data": {
      "text/plain": [
       "<AxesSubplot:xlabel='DIST_MAINROAD'>"
      ]
     },
     "execution_count": 55,
     "metadata": {},
     "output_type": "execute_result"
    },
    {
     "data": {
      "image/png": "[encoded data removed]",
      "text/plain": [
       "<Figure size 432x288 with 1 Axes>"
      ]
     },
     "metadata": {
      "needs_background": "light"
     },
     "output_type": "display_data"
    }
   ],
   "source": [
    "sns.boxplot(df['DIST_MAINROAD'])"
   ]
  },
  {
   "cell_type": "code",
   "execution_count": 56,
   "id": "8eefc039",
   "metadata": {},
   "outputs": [
    {
     "name": "stderr",
     "output_type": "stream",
     "text": [
      "C:\\Users\\Admin\\anaconda3\\lib\\site-packages\\pandas\\core\\arraylike.py:364: RuntimeWarning: divide by zero encountered in log\n",
      "  result = getattr(ufunc, method)(*inputs, **kwargs)\n"
     ]
    },
    {
     "data": {
      "text/plain": [
       "<AxesSubplot:xlabel='DIST_MAINROAD', ylabel='Density'>"
      ]
     },
     "execution_count": 56,
     "metadata": {},
     "output_type": "execute_result"
    },
    {
     "data": {
      "image/png": "[encoded data removed]",
      "text/plain": [
       "<Figure size 432x288 with 1 Axes>"
      ]
     },
     "metadata": {
      "needs_background": "light"
     },
     "output_type": "display_data"
    }
   ],
   "source": [
    "sns.kdeplot(np.log(df['DIST_MAINROAD']))"
   ]
  },
  {
   "cell_type": "markdown",
   "id": "2421e47c",
   "metadata": {},
   "source": [
    "# df['N_BEDROOM']"
   ]
  },
  {
   "cell_type": "code",
   "execution_count": 57,
   "id": "a50d150d",
   "metadata": {},
   "outputs": [
    {
     "data": {
      "text/plain": [
       "<AxesSubplot:xlabel='N_BEDROOM', ylabel='Density'>"
      ]
     },
     "execution_count": 57,
     "metadata": {},
     "output_type": "execute_result"
    },
    {
     "data": {
      "image/png": "[encoded data removed]",
      "text/plain": [
       "<Figure size 432x288 with 1 Axes>"
      ]
     },
     "metadata": {
      "needs_background": "light"
     },
     "output_type": "display_data"
    }
   ],
   "source": [
    "sns.kdeplot(df['N_BEDROOM'])"
   ]
  },
  {
   "cell_type": "code",
   "execution_count": 58,
   "id": "f80353e7",
   "metadata": {},
   "outputs": [
    {
     "name": "stderr",
     "output_type": "stream",
     "text": [
      "C:\\Users\\Admin\\anaconda3\\lib\\site-packages\\seaborn\\_decorators.py:36: FutureWarning: Pass the following variable as a keyword arg: x. From version 0.12, the only valid positional argument will be `data`, and passing other arguments without an explicit keyword will result in an error or misinterpretation.\n",
      "  warnings.warn(\n"
     ]
    },
    {
     "data": {
      "text/plain": [
       "<AxesSubplot:xlabel='N_BEDROOM'>"
      ]
     },
     "execution_count": 58,
     "metadata": {},
     "output_type": "execute_result"
    },
    {
     "data": {
      "image/png": "[encoded data removed]",
      "text/plain": [
       "<Figure size 432x288 with 1 Axes>"
      ]
     },
     "metadata": {
      "needs_background": "light"
     },
     "output_type": "display_data"
    }
   ],
   "source": [
    "sns.boxplot(df['N_BEDROOM'])"
   ]
  },
  {
   "cell_type": "code",
   "execution_count": 59,
   "id": "82156a32",
   "metadata": {},
   "outputs": [
    {
     "data": {
      "text/plain": [
       "<AxesSubplot:xlabel='N_BEDROOM', ylabel='Density'>"
      ]
     },
     "execution_count": 59,
     "metadata": {},
     "output_type": "execute_result"
    },
    {
     "data": {
      "image/png": "[encoded data removed]",
      "text/plain": [
       "<Figure size 432x288 with 1 Axes>"
      ]
     },
     "metadata": {
      "needs_background": "light"
     },
     "output_type": "display_data"
    }
   ],
   "source": [
    "sns.kdeplot(np.log(df['N_BEDROOM']))"
   ]
  },
  {
   "cell_type": "code",
   "execution_count": 60,
   "id": "db26052d",
   "metadata": {},
   "outputs": [
    {
     "name": "stdout",
     "output_type": "stream",
     "text": [
      "4.908000285366131e-248\n",
      "Data is not normally distributed\n"
     ]
    }
   ],
   "source": [
    "a,p_value=normaltest(df['N_BEDROOM'])\n",
    "print(p_value)\n",
    "alpha=0.05\n",
    "if p_value>alpha:\n",
    "    print('Data is normally distributed')\n",
    "else :\n",
    "    print('Data is not normally distributed')"
   ]
  },
  {
   "cell_type": "code",
   "execution_count": 63,
   "id": "eafe8872",
   "metadata": {},
   "outputs": [
    {
     "name": "stdout",
     "output_type": "stream",
     "text": [
      "1.305984127937961e-295\n",
      "Data is not normally distributed\n"
     ]
    }
   ],
   "source": [
    "a,p_value=normaltest(df['N_BATHROOM'])\n",
    "print(p_value)\n",
    "alpha=0.05\n",
    "if p_value>alpha:\n",
    "    print('Data is normally distributed')\n",
    "else :\n",
    "    print('Data is not normally distributed')"
   ]
  },
  {
   "cell_type": "code",
   "execution_count": 64,
   "id": "d0102989",
   "metadata": {},
   "outputs": [
    {
     "data": {
      "text/html": [
       "<div>\n",
       "<style scoped>\n",
       "    .dataframe tbody tr th:only-of-type {\n",
       "        vertical-align: middle;\n",
       "    }\n",
       "\n",
       "    .dataframe tbody tr th {\n",
       "        vertical-align: top;\n",
       "    }\n",
       "\n",
       "    .dataframe thead th {\n",
       "        text-align: right;\n",
       "    }\n",
       "</style>\n",
       "<table border=\"1\" class=\"dataframe\">\n",
       "  <thead>\n",
       "    <tr style=\"text-align: right;\">\n",
       "      <th></th>\n",
       "      <th>PRT_ID</th>\n",
       "      <th>AREA</th>\n",
       "      <th>INT_SQFT</th>\n",
       "      <th>DIST_MAINROAD</th>\n",
       "      <th>N_BEDROOM</th>\n",
       "      <th>N_BATHROOM</th>\n",
       "      <th>N_ROOM</th>\n",
       "      <th>SALE_COND</th>\n",
       "      <th>UTILITY_AVAIL</th>\n",
       "      <th>MZZONE</th>\n",
       "      <th>...</th>\n",
       "      <th>QS_OVERALL</th>\n",
       "      <th>COMMIS</th>\n",
       "      <th>PARK_FACIL_No</th>\n",
       "      <th>PARK_FACIL_Yes</th>\n",
       "      <th>BUILDTYPE_Commercial</th>\n",
       "      <th>BUILDTYPE_House</th>\n",
       "      <th>BUILDTYPE_Others</th>\n",
       "      <th>STREET_Gravel</th>\n",
       "      <th>STREET_No Access</th>\n",
       "      <th>STREET_Paved</th>\n",
       "    </tr>\n",
       "  </thead>\n",
       "  <tbody>\n",
       "    <tr>\n",
       "      <th>0</th>\n",
       "      <td>2266</td>\n",
       "      <td>5</td>\n",
       "      <td>1004</td>\n",
       "      <td>131</td>\n",
       "      <td>1.0</td>\n",
       "      <td>1.0</td>\n",
       "      <td>3</td>\n",
       "      <td>0</td>\n",
       "      <td>0</td>\n",
       "      <td>0</td>\n",
       "      <td>...</td>\n",
       "      <td>4.330</td>\n",
       "      <td>144400</td>\n",
       "      <td>0</td>\n",
       "      <td>1</td>\n",
       "      <td>1</td>\n",
       "      <td>0</td>\n",
       "      <td>0</td>\n",
       "      <td>0</td>\n",
       "      <td>0</td>\n",
       "      <td>1</td>\n",
       "    </tr>\n",
       "    <tr>\n",
       "      <th>1</th>\n",
       "      <td>6664</td>\n",
       "      <td>2</td>\n",
       "      <td>1986</td>\n",
       "      <td>26</td>\n",
       "      <td>2.0</td>\n",
       "      <td>1.0</td>\n",
       "      <td>5</td>\n",
       "      <td>0</td>\n",
       "      <td>0</td>\n",
       "      <td>3</td>\n",
       "      <td>...</td>\n",
       "      <td>3.765</td>\n",
       "      <td>304049</td>\n",
       "      <td>1</td>\n",
       "      <td>0</td>\n",
       "      <td>1</td>\n",
       "      <td>0</td>\n",
       "      <td>0</td>\n",
       "      <td>1</td>\n",
       "      <td>0</td>\n",
       "      <td>0</td>\n",
       "    </tr>\n",
       "    <tr>\n",
       "      <th>2</th>\n",
       "      <td>1270</td>\n",
       "      <td>0</td>\n",
       "      <td>909</td>\n",
       "      <td>70</td>\n",
       "      <td>1.0</td>\n",
       "      <td>1.0</td>\n",
       "      <td>3</td>\n",
       "      <td>0</td>\n",
       "      <td>1</td>\n",
       "      <td>4</td>\n",
       "      <td>...</td>\n",
       "      <td>3.090</td>\n",
       "      <td>92114</td>\n",
       "      <td>0</td>\n",
       "      <td>1</td>\n",
       "      <td>1</td>\n",
       "      <td>0</td>\n",
       "      <td>0</td>\n",
       "      <td>1</td>\n",
       "      <td>0</td>\n",
       "      <td>0</td>\n",
       "    </tr>\n",
       "    <tr>\n",
       "      <th>3</th>\n",
       "      <td>3755</td>\n",
       "      <td>7</td>\n",
       "      <td>1855</td>\n",
       "      <td>14</td>\n",
       "      <td>3.0</td>\n",
       "      <td>2.0</td>\n",
       "      <td>5</td>\n",
       "      <td>2</td>\n",
       "      <td>3</td>\n",
       "      <td>2</td>\n",
       "      <td>...</td>\n",
       "      <td>4.010</td>\n",
       "      <td>77042</td>\n",
       "      <td>1</td>\n",
       "      <td>0</td>\n",
       "      <td>0</td>\n",
       "      <td>0</td>\n",
       "      <td>1</td>\n",
       "      <td>0</td>\n",
       "      <td>0</td>\n",
       "      <td>1</td>\n",
       "    </tr>\n",
       "    <tr>\n",
       "      <th>4</th>\n",
       "      <td>4393</td>\n",
       "      <td>5</td>\n",
       "      <td>1226</td>\n",
       "      <td>84</td>\n",
       "      <td>1.0</td>\n",
       "      <td>1.0</td>\n",
       "      <td>3</td>\n",
       "      <td>0</td>\n",
       "      <td>0</td>\n",
       "      <td>1</td>\n",
       "      <td>...</td>\n",
       "      <td>3.290</td>\n",
       "      <td>74063</td>\n",
       "      <td>0</td>\n",
       "      <td>1</td>\n",
       "      <td>0</td>\n",
       "      <td>0</td>\n",
       "      <td>1</td>\n",
       "      <td>1</td>\n",
       "      <td>0</td>\n",
       "      <td>0</td>\n",
       "    </tr>\n",
       "    <tr>\n",
       "      <th>...</th>\n",
       "      <td>...</td>\n",
       "      <td>...</td>\n",
       "      <td>...</td>\n",
       "      <td>...</td>\n",
       "      <td>...</td>\n",
       "      <td>...</td>\n",
       "      <td>...</td>\n",
       "      <td>...</td>\n",
       "      <td>...</td>\n",
       "      <td>...</td>\n",
       "      <td>...</td>\n",
       "      <td>...</td>\n",
       "      <td>...</td>\n",
       "      <td>...</td>\n",
       "      <td>...</td>\n",
       "      <td>...</td>\n",
       "      <td>...</td>\n",
       "      <td>...</td>\n",
       "      <td>...</td>\n",
       "      <td>...</td>\n",
       "      <td>...</td>\n",
       "    </tr>\n",
       "    <tr>\n",
       "      <th>7104</th>\n",
       "      <td>2697</td>\n",
       "      <td>5</td>\n",
       "      <td>598</td>\n",
       "      <td>51</td>\n",
       "      <td>1.0</td>\n",
       "      <td>1.0</td>\n",
       "      <td>2</td>\n",
       "      <td>1</td>\n",
       "      <td>1</td>\n",
       "      <td>5</td>\n",
       "      <td>...</td>\n",
       "      <td>2.520</td>\n",
       "      <td>107060</td>\n",
       "      <td>1</td>\n",
       "      <td>0</td>\n",
       "      <td>0</td>\n",
       "      <td>0</td>\n",
       "      <td>1</td>\n",
       "      <td>0</td>\n",
       "      <td>1</td>\n",
       "      <td>0</td>\n",
       "    </tr>\n",
       "    <tr>\n",
       "      <th>7105</th>\n",
       "      <td>7086</td>\n",
       "      <td>7</td>\n",
       "      <td>1897</td>\n",
       "      <td>52</td>\n",
       "      <td>3.0</td>\n",
       "      <td>2.0</td>\n",
       "      <td>5</td>\n",
       "      <td>2</td>\n",
       "      <td>2</td>\n",
       "      <td>3</td>\n",
       "      <td>...</td>\n",
       "      <td>3.920</td>\n",
       "      <td>205551</td>\n",
       "      <td>0</td>\n",
       "      <td>1</td>\n",
       "      <td>0</td>\n",
       "      <td>0</td>\n",
       "      <td>1</td>\n",
       "      <td>0</td>\n",
       "      <td>1</td>\n",
       "      <td>0</td>\n",
       "    </tr>\n",
       "    <tr>\n",
       "      <th>7106</th>\n",
       "      <td>6798</td>\n",
       "      <td>7</td>\n",
       "      <td>1614</td>\n",
       "      <td>152</td>\n",
       "      <td>2.0</td>\n",
       "      <td>1.0</td>\n",
       "      <td>4</td>\n",
       "      <td>3</td>\n",
       "      <td>2</td>\n",
       "      <td>2</td>\n",
       "      <td>...</td>\n",
       "      <td>3.840</td>\n",
       "      <td>167028</td>\n",
       "      <td>1</td>\n",
       "      <td>0</td>\n",
       "      <td>0</td>\n",
       "      <td>1</td>\n",
       "      <td>0</td>\n",
       "      <td>1</td>\n",
       "      <td>0</td>\n",
       "      <td>0</td>\n",
       "    </tr>\n",
       "    <tr>\n",
       "      <th>7107</th>\n",
       "      <td>4601</td>\n",
       "      <td>5</td>\n",
       "      <td>787</td>\n",
       "      <td>40</td>\n",
       "      <td>1.0</td>\n",
       "      <td>1.0</td>\n",
       "      <td>2</td>\n",
       "      <td>4</td>\n",
       "      <td>1</td>\n",
       "      <td>4</td>\n",
       "      <td>...</td>\n",
       "      <td>4.160</td>\n",
       "      <td>119098</td>\n",
       "      <td>0</td>\n",
       "      <td>1</td>\n",
       "      <td>1</td>\n",
       "      <td>0</td>\n",
       "      <td>0</td>\n",
       "      <td>0</td>\n",
       "      <td>0</td>\n",
       "      <td>1</td>\n",
       "    </tr>\n",
       "    <tr>\n",
       "      <th>7108</th>\n",
       "      <td>6942</td>\n",
       "      <td>7</td>\n",
       "      <td>1896</td>\n",
       "      <td>156</td>\n",
       "      <td>3.0</td>\n",
       "      <td>2.0</td>\n",
       "      <td>5</td>\n",
       "      <td>4</td>\n",
       "      <td>1</td>\n",
       "      <td>2</td>\n",
       "      <td>...</td>\n",
       "      <td>3.640</td>\n",
       "      <td>79812</td>\n",
       "      <td>0</td>\n",
       "      <td>1</td>\n",
       "      <td>0</td>\n",
       "      <td>0</td>\n",
       "      <td>1</td>\n",
       "      <td>0</td>\n",
       "      <td>0</td>\n",
       "      <td>1</td>\n",
       "    </tr>\n",
       "  </tbody>\n",
       "</table>\n",
       "<p>7109 rows × 23 columns</p>\n",
       "</div>"
      ],
      "text/plain": [
       "      PRT_ID  AREA  INT_SQFT  DIST_MAINROAD  N_BEDROOM  N_BATHROOM  N_ROOM  \\\n",
       "0       2266     5      1004            131        1.0         1.0       3   \n",
       "1       6664     2      1986             26        2.0         1.0       5   \n",
       "2       1270     0       909             70        1.0         1.0       3   \n",
       "3       3755     7      1855             14        3.0         2.0       5   \n",
       "4       4393     5      1226             84        1.0         1.0       3   \n",
       "...      ...   ...       ...            ...        ...         ...     ...   \n",
       "7104    2697     5       598             51        1.0         1.0       2   \n",
       "7105    7086     7      1897             52        3.0         2.0       5   \n",
       "7106    6798     7      1614            152        2.0         1.0       4   \n",
       "7107    4601     5       787             40        1.0         1.0       2   \n",
       "7108    6942     7      1896            156        3.0         2.0       5   \n",
       "\n",
       "      SALE_COND  UTILITY_AVAIL  MZZONE  ...  QS_OVERALL  COMMIS  \\\n",
       "0             0              0       0  ...       4.330  144400   \n",
       "1             0              0       3  ...       3.765  304049   \n",
       "2             0              1       4  ...       3.090   92114   \n",
       "3             2              3       2  ...       4.010   77042   \n",
       "4             0              0       1  ...       3.290   74063   \n",
       "...         ...            ...     ...  ...         ...     ...   \n",
       "7104          1              1       5  ...       2.520  107060   \n",
       "7105          2              2       3  ...       3.920  205551   \n",
       "7106          3              2       2  ...       3.840  167028   \n",
       "7107          4              1       4  ...       4.160  119098   \n",
       "7108          4              1       2  ...       3.640   79812   \n",
       "\n",
       "      PARK_FACIL_No  PARK_FACIL_Yes  BUILDTYPE_Commercial  BUILDTYPE_House  \\\n",
       "0                 0               1                     1                0   \n",
       "1                 1               0                     1                0   \n",
       "2                 0               1                     1                0   \n",
       "3                 1               0                     0                0   \n",
       "4                 0               1                     0                0   \n",
       "...             ...             ...                   ...              ...   \n",
       "7104              1               0                     0                0   \n",
       "7105              0               1                     0                0   \n",
       "7106              1               0                     0                1   \n",
       "7107              0               1                     1                0   \n",
       "7108              0               1                     0                0   \n",
       "\n",
       "      BUILDTYPE_Others  STREET_Gravel  STREET_No Access  STREET_Paved  \n",
       "0                    0              0                 0             1  \n",
       "1                    0              1                 0             0  \n",
       "2                    0              1                 0             0  \n",
       "3                    1              0                 0             1  \n",
       "4                    1              1                 0             0  \n",
       "...                ...            ...               ...           ...  \n",
       "7104                 1              0                 1             0  \n",
       "7105                 1              0                 1             0  \n",
       "7106                 0              1                 0             0  \n",
       "7107                 0              0                 0             1  \n",
       "7108                 1              0                 0             1  \n",
       "\n",
       "[7109 rows x 23 columns]"
      ]
     },
     "execution_count": 64,
     "metadata": {},
     "output_type": "execute_result"
    }
   ],
   "source": [
    "y=df['SALES_PRICE']\n",
    "x=df.drop('SALES_PRICE',axis=1)\n",
    "x"
   ]
  },
  {
   "cell_type": "code",
   "execution_count": 62,
   "id": "1384fabd",
   "metadata": {},
   "outputs": [],
   "source": [
    "from sklearn.model_selection import train_test_split"
   ]
  },
  {
   "cell_type": "code",
   "execution_count": 65,
   "id": "324a1bba",
   "metadata": {},
   "outputs": [],
   "source": [
    "x_train,x_test,y_train,y_test=train_test_split(x,y,test_size=0.2,random_state=5)"
   ]
  },
  {
   "cell_type": "code",
   "execution_count": 66,
   "id": "316417ec",
   "metadata": {},
   "outputs": [],
   "source": [
    "from sklearn.linear_model import LinearRegression"
   ]
  },
  {
   "cell_type": "code",
   "execution_count": 67,
   "id": "54c432c0",
   "metadata": {},
   "outputs": [],
   "source": [
    "lr_model=LinearRegression()"
   ]
  },
  {
   "cell_type": "code",
   "execution_count": 69,
   "id": "2c9c22a8",
   "metadata": {},
   "outputs": [
    {
     "data": {
      "text/plain": [
       "LinearRegression()"
      ]
     },
     "execution_count": 69,
     "metadata": {},
     "output_type": "execute_result"
    }
   ],
   "source": [
    "lr_model.fit(x_train,y_train)"
   ]
  },
  {
   "cell_type": "code",
   "execution_count": 70,
   "id": "36225dee",
   "metadata": {},
   "outputs": [
    {
     "data": {
      "text/plain": [
       "array([11089227.96308946, 14550229.49560068, 13249086.66533542, ...,\n",
       "        7007861.97236823,  9054485.96758008, 14339067.84643103])"
      ]
     },
     "execution_count": 70,
     "metadata": {},
     "output_type": "execute_result"
    }
   ],
   "source": [
    "y_pred=lr_model.predict(x_test)\n",
    "y_pred"
   ]
  },
  {
   "cell_type": "code",
   "execution_count": 71,
   "id": "09eb5b66",
   "metadata": {},
   "outputs": [
    {
     "data": {
      "text/plain": [
       "0.9139126339929534"
      ]
     },
     "execution_count": 71,
     "metadata": {},
     "output_type": "execute_result"
    }
   ],
   "source": [
    "lr_model.score(x_train,y_train)"
   ]
  },
  {
   "cell_type": "code",
   "execution_count": 72,
   "id": "79fafd50",
   "metadata": {},
   "outputs": [
    {
     "data": {
      "text/plain": [
       "0.9158707242829338"
      ]
     },
     "execution_count": 72,
     "metadata": {},
     "output_type": "execute_result"
    }
   ],
   "source": [
    "lr_model.score(x_test,y_test)"
   ]
  },
  {
   "cell_type": "code",
   "execution_count": 73,
   "id": "7fec0ae8",
   "metadata": {},
   "outputs": [],
   "source": [
    "from sklearn.metrics import mean_absolute_error,mean_squared_error,r2_score"
   ]
  },
  {
   "cell_type": "code",
   "execution_count": 74,
   "id": "c215f4c9",
   "metadata": {},
   "outputs": [
    {
     "data": {
      "text/plain": [
       "0.9158707242829338"
      ]
     },
     "execution_count": 74,
     "metadata": {},
     "output_type": "execute_result"
    }
   ],
   "source": [
    "r2_score=r2_score(y_test,y_pred)\n",
    "r2_score"
   ]
  },
  {
   "cell_type": "code",
   "execution_count": 75,
   "id": "e5a12e64",
   "metadata": {},
   "outputs": [
    {
     "data": {
      "text/plain": [
       "1234842053691.7285"
      ]
     },
     "execution_count": 75,
     "metadata": {},
     "output_type": "execute_result"
    }
   ],
   "source": [
    "mse=mean_squared_error(y_test,y_pred)\n",
    "mse"
   ]
  },
  {
   "cell_type": "code",
   "execution_count": 76,
   "id": "2c7d085d",
   "metadata": {},
   "outputs": [
    {
     "data": {
      "text/plain": [
       "840529.911474052"
      ]
     },
     "execution_count": 76,
     "metadata": {},
     "output_type": "execute_result"
    }
   ],
   "source": [
    "mae=mean_absolute_error(y_test,y_pred)\n",
    "mae"
   ]
  },
  {
   "cell_type": "code",
   "execution_count": null,
   "id": "927532b6",
   "metadata": {},
   "outputs": [],
   "source": []
  },
  {
   "cell_type": "code",
   "execution_count": null,
   "id": "62c4fe26",
   "metadata": {},
   "outputs": [],
   "source": []
  }
 ],
 "metadata": {
  "kernelspec": {
   "display_name": "Python 3 (ipykernel)",
   "language": "python",
   "name": "python3"
  },
  "language_info": {
   "codemirror_mode": {
    "name": "ipython",
    "version": 3
   },
   "file_extension": ".py",
   "mimetype": "text/x-python",
   "name": "python",
   "nbconvert_exporter": "python",
   "pygments_lexer": "ipython3",
   "version": "3.9.7"
  }
 },
 "nbformat": 4,
 "nbformat_minor": 5
}
